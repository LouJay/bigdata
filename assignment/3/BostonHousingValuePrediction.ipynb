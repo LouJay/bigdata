{
 "cells": [
  {
   "cell_type": "markdown",
   "metadata": {},
   "source": [
    "## Housing Values in Suburbs of Boston\n",
    "\n",
    "The Boston data frame has 506 rows and 14 columns. This data frame contains the following columns:\n",
    "\n",
    "<li> crim - per capita crime rate by town.\n",
    "<li> zn - proportion of residential land zoned for lots over 25,000 sq.ft.\n",
    "<li> indus - proportion of non-retail business acres per town.\n",
    "<li> chas - Charles River dummy variable (= 1 if tract bounds river; 0 otherwise).\n",
    "<li> nox - nitrogen oxides concentration (parts per 10 million).\n",
    "<li> rm - average number of rooms per dwelling.\n",
    "<li> age - proportion of owner-occupied units built prior to 1940.\n",
    "<li> dis - weighted mean of distances to five Boston employment centres.\n",
    "<li> rad - index of accessibility to radial highways.\n",
    "<li> tax - full-value property-tax rate per 10,000 dollars.\n",
    "<li> ptratio - pupil-teacher ratio by town.\n",
    "<li> black - 1000(Bk - 0.63)^2 where Bk is the proportion of blacks by town.\n",
    "<li> lstat - lower status of the population (percent).\n",
    "<li> medv - median value of owner-occupied homes in 1000s (dollar)."
   ]
  },
  {
   "cell_type": "code",
   "execution_count": 5,
   "metadata": {},
   "outputs": [],
   "source": [
    "import pandas as pd\n",
    "import numpy as np\n",
    "import tensorflow as tf\n",
    "import matplotlib.pyplot as plt\n",
    "import os\n",
    "from tensorflow.python.keras.models import load_model\n",
    "from sklearn.model_selection import train_test_split\n",
    "from sklearn.metrics import mean_squared_error\n",
    "import gc; gc.enable()"
   ]
  },
  {
   "cell_type": "code",
   "execution_count": 6,
   "metadata": {},
   "outputs": [],
   "source": [
    "learning_rate = 0.01\n",
    "epochs_value = 100\n",
    "batch_size_value = 8"
   ]
  },
  {
   "cell_type": "code",
   "execution_count": 7,
   "metadata": {},
   "outputs": [],
   "source": [
    "FEATURES = [\"crim\", \"zn\", \"indus\", \"nox\", \"rm\", \"age\", \"dis\", \"tax\", \"ptratio\"]\n",
    "LABEL = \"medv\""
   ]
  },
  {
   "cell_type": "code",
   "execution_count": 8,
   "metadata": {},
   "outputs": [],
   "source": [
    "# fix random seed for reproducibility\n",
    "seed = 123; \n",
    "np.random.seed(seed); \n",
    "tf.set_random_seed(seed)"
   ]
  },
  {
   "cell_type": "markdown",
   "metadata": {},
   "source": [
    "## load dataset"
   ]
  },
  {
   "cell_type": "code",
   "execution_count": 9,
   "metadata": {},
   "outputs": [
    {
     "data": {
      "text/plain": [
       "crim       float64\n",
       "zn         float64\n",
       "indus      float64\n",
       "chas         int64\n",
       "nox        float64\n",
       "rm         float64\n",
       "age        float64\n",
       "dis        float64\n",
       "rad          int64\n",
       "tax          int64\n",
       "ptratio    float64\n",
       "black      float64\n",
       "lstat      float64\n",
       "medv       float64\n",
       "dtype: object"
      ]
     },
     "execution_count": 9,
     "metadata": {},
     "output_type": "execute_result"
    }
   ],
   "source": [
    "data = pd.read_csv(\"Boston.csv\")\n",
    "data.shape\n",
    "data.dtypes\n",
    "#data.info()"
   ]
  },
  {
   "cell_type": "code",
   "execution_count": 10,
   "metadata": {},
   "outputs": [
    {
     "data": {
      "text/html": [
       "<div>\n",
       "<style scoped>\n",
       "    .dataframe tbody tr th:only-of-type {\n",
       "        vertical-align: middle;\n",
       "    }\n",
       "\n",
       "    .dataframe tbody tr th {\n",
       "        vertical-align: top;\n",
       "    }\n",
       "\n",
       "    .dataframe thead th {\n",
       "        text-align: right;\n",
       "    }\n",
       "</style>\n",
       "<table border=\"1\" class=\"dataframe\">\n",
       "  <thead>\n",
       "    <tr style=\"text-align: right;\">\n",
       "      <th></th>\n",
       "      <th>crim</th>\n",
       "      <th>zn</th>\n",
       "      <th>indus</th>\n",
       "      <th>chas</th>\n",
       "      <th>nox</th>\n",
       "      <th>rm</th>\n",
       "      <th>age</th>\n",
       "      <th>dis</th>\n",
       "      <th>rad</th>\n",
       "      <th>tax</th>\n",
       "      <th>ptratio</th>\n",
       "      <th>black</th>\n",
       "      <th>lstat</th>\n",
       "      <th>medv</th>\n",
       "    </tr>\n",
       "  </thead>\n",
       "  <tbody>\n",
       "    <tr>\n",
       "      <th>0</th>\n",
       "      <td>0.00632</td>\n",
       "      <td>18.0</td>\n",
       "      <td>2.31</td>\n",
       "      <td>0</td>\n",
       "      <td>0.538</td>\n",
       "      <td>6.575</td>\n",
       "      <td>65.2</td>\n",
       "      <td>4.0900</td>\n",
       "      <td>1</td>\n",
       "      <td>296</td>\n",
       "      <td>15.3</td>\n",
       "      <td>396.90</td>\n",
       "      <td>4.98</td>\n",
       "      <td>24.0</td>\n",
       "    </tr>\n",
       "    <tr>\n",
       "      <th>1</th>\n",
       "      <td>0.02731</td>\n",
       "      <td>0.0</td>\n",
       "      <td>7.07</td>\n",
       "      <td>0</td>\n",
       "      <td>0.469</td>\n",
       "      <td>6.421</td>\n",
       "      <td>78.9</td>\n",
       "      <td>4.9671</td>\n",
       "      <td>2</td>\n",
       "      <td>242</td>\n",
       "      <td>17.8</td>\n",
       "      <td>396.90</td>\n",
       "      <td>9.14</td>\n",
       "      <td>21.6</td>\n",
       "    </tr>\n",
       "    <tr>\n",
       "      <th>2</th>\n",
       "      <td>0.02729</td>\n",
       "      <td>0.0</td>\n",
       "      <td>7.07</td>\n",
       "      <td>0</td>\n",
       "      <td>0.469</td>\n",
       "      <td>7.185</td>\n",
       "      <td>61.1</td>\n",
       "      <td>4.9671</td>\n",
       "      <td>2</td>\n",
       "      <td>242</td>\n",
       "      <td>17.8</td>\n",
       "      <td>392.83</td>\n",
       "      <td>4.03</td>\n",
       "      <td>34.7</td>\n",
       "    </tr>\n",
       "    <tr>\n",
       "      <th>3</th>\n",
       "      <td>0.03237</td>\n",
       "      <td>0.0</td>\n",
       "      <td>2.18</td>\n",
       "      <td>0</td>\n",
       "      <td>0.458</td>\n",
       "      <td>6.998</td>\n",
       "      <td>45.8</td>\n",
       "      <td>6.0622</td>\n",
       "      <td>3</td>\n",
       "      <td>222</td>\n",
       "      <td>18.7</td>\n",
       "      <td>394.63</td>\n",
       "      <td>2.94</td>\n",
       "      <td>33.4</td>\n",
       "    </tr>\n",
       "    <tr>\n",
       "      <th>4</th>\n",
       "      <td>0.06905</td>\n",
       "      <td>0.0</td>\n",
       "      <td>2.18</td>\n",
       "      <td>0</td>\n",
       "      <td>0.458</td>\n",
       "      <td>7.147</td>\n",
       "      <td>54.2</td>\n",
       "      <td>6.0622</td>\n",
       "      <td>3</td>\n",
       "      <td>222</td>\n",
       "      <td>18.7</td>\n",
       "      <td>396.90</td>\n",
       "      <td>5.33</td>\n",
       "      <td>36.2</td>\n",
       "    </tr>\n",
       "  </tbody>\n",
       "</table>\n",
       "</div>"
      ],
      "text/plain": [
       "      crim    zn  indus  chas    nox     rm   age     dis  rad  tax  ptratio  \\\n",
       "0  0.00632  18.0   2.31     0  0.538  6.575  65.2  4.0900    1  296     15.3   \n",
       "1  0.02731   0.0   7.07     0  0.469  6.421  78.9  4.9671    2  242     17.8   \n",
       "2  0.02729   0.0   7.07     0  0.469  7.185  61.1  4.9671    2  242     17.8   \n",
       "3  0.03237   0.0   2.18     0  0.458  6.998  45.8  6.0622    3  222     18.7   \n",
       "4  0.06905   0.0   2.18     0  0.458  7.147  54.2  6.0622    3  222     18.7   \n",
       "\n",
       "    black  lstat  medv  \n",
       "0  396.90   4.98  24.0  \n",
       "1  396.90   9.14  21.6  \n",
       "2  392.83   4.03  34.7  \n",
       "3  394.63   2.94  33.4  \n",
       "4  396.90   5.33  36.2  "
      ]
     },
     "execution_count": 10,
     "metadata": {},
     "output_type": "execute_result"
    }
   ],
   "source": [
    "data.head(5)"
   ]
  },
  {
   "cell_type": "code",
   "execution_count": 11,
   "metadata": {},
   "outputs": [
    {
     "data": {
      "text/html": [
       "<div>\n",
       "<style scoped>\n",
       "    .dataframe tbody tr th:only-of-type {\n",
       "        vertical-align: middle;\n",
       "    }\n",
       "\n",
       "    .dataframe tbody tr th {\n",
       "        vertical-align: top;\n",
       "    }\n",
       "\n",
       "    .dataframe thead th {\n",
       "        text-align: right;\n",
       "    }\n",
       "</style>\n",
       "<table border=\"1\" class=\"dataframe\">\n",
       "  <thead>\n",
       "    <tr style=\"text-align: right;\">\n",
       "      <th></th>\n",
       "      <th>crim</th>\n",
       "      <th>zn</th>\n",
       "      <th>indus</th>\n",
       "      <th>chas</th>\n",
       "      <th>nox</th>\n",
       "      <th>rm</th>\n",
       "      <th>age</th>\n",
       "      <th>dis</th>\n",
       "      <th>rad</th>\n",
       "      <th>tax</th>\n",
       "      <th>ptratio</th>\n",
       "      <th>black</th>\n",
       "      <th>lstat</th>\n",
       "      <th>medv</th>\n",
       "    </tr>\n",
       "  </thead>\n",
       "  <tbody>\n",
       "    <tr>\n",
       "      <th>count</th>\n",
       "      <td>506.000000</td>\n",
       "      <td>506.000000</td>\n",
       "      <td>506.000000</td>\n",
       "      <td>506.000000</td>\n",
       "      <td>506.000000</td>\n",
       "      <td>506.000000</td>\n",
       "      <td>506.000000</td>\n",
       "      <td>506.000000</td>\n",
       "      <td>506.000000</td>\n",
       "      <td>506.000000</td>\n",
       "      <td>506.000000</td>\n",
       "      <td>506.000000</td>\n",
       "      <td>506.000000</td>\n",
       "      <td>506.000000</td>\n",
       "    </tr>\n",
       "    <tr>\n",
       "      <th>mean</th>\n",
       "      <td>3.613524</td>\n",
       "      <td>11.363636</td>\n",
       "      <td>11.136779</td>\n",
       "      <td>0.069170</td>\n",
       "      <td>0.554695</td>\n",
       "      <td>6.284634</td>\n",
       "      <td>68.574901</td>\n",
       "      <td>3.795043</td>\n",
       "      <td>9.549407</td>\n",
       "      <td>408.237154</td>\n",
       "      <td>18.455534</td>\n",
       "      <td>356.674032</td>\n",
       "      <td>12.653063</td>\n",
       "      <td>22.532806</td>\n",
       "    </tr>\n",
       "    <tr>\n",
       "      <th>std</th>\n",
       "      <td>8.601545</td>\n",
       "      <td>23.322453</td>\n",
       "      <td>6.860353</td>\n",
       "      <td>0.253994</td>\n",
       "      <td>0.115878</td>\n",
       "      <td>0.702617</td>\n",
       "      <td>28.148861</td>\n",
       "      <td>2.105710</td>\n",
       "      <td>8.707259</td>\n",
       "      <td>168.537116</td>\n",
       "      <td>2.164946</td>\n",
       "      <td>91.294864</td>\n",
       "      <td>7.141062</td>\n",
       "      <td>9.197104</td>\n",
       "    </tr>\n",
       "    <tr>\n",
       "      <th>min</th>\n",
       "      <td>0.006320</td>\n",
       "      <td>0.000000</td>\n",
       "      <td>0.460000</td>\n",
       "      <td>0.000000</td>\n",
       "      <td>0.385000</td>\n",
       "      <td>3.561000</td>\n",
       "      <td>2.900000</td>\n",
       "      <td>1.129600</td>\n",
       "      <td>1.000000</td>\n",
       "      <td>187.000000</td>\n",
       "      <td>12.600000</td>\n",
       "      <td>0.320000</td>\n",
       "      <td>1.730000</td>\n",
       "      <td>5.000000</td>\n",
       "    </tr>\n",
       "    <tr>\n",
       "      <th>25%</th>\n",
       "      <td>0.082045</td>\n",
       "      <td>0.000000</td>\n",
       "      <td>5.190000</td>\n",
       "      <td>0.000000</td>\n",
       "      <td>0.449000</td>\n",
       "      <td>5.885500</td>\n",
       "      <td>45.025000</td>\n",
       "      <td>2.100175</td>\n",
       "      <td>4.000000</td>\n",
       "      <td>279.000000</td>\n",
       "      <td>17.400000</td>\n",
       "      <td>375.377500</td>\n",
       "      <td>6.950000</td>\n",
       "      <td>17.025000</td>\n",
       "    </tr>\n",
       "    <tr>\n",
       "      <th>50%</th>\n",
       "      <td>0.256510</td>\n",
       "      <td>0.000000</td>\n",
       "      <td>9.690000</td>\n",
       "      <td>0.000000</td>\n",
       "      <td>0.538000</td>\n",
       "      <td>6.208500</td>\n",
       "      <td>77.500000</td>\n",
       "      <td>3.207450</td>\n",
       "      <td>5.000000</td>\n",
       "      <td>330.000000</td>\n",
       "      <td>19.050000</td>\n",
       "      <td>391.440000</td>\n",
       "      <td>11.360000</td>\n",
       "      <td>21.200000</td>\n",
       "    </tr>\n",
       "    <tr>\n",
       "      <th>75%</th>\n",
       "      <td>3.677082</td>\n",
       "      <td>12.500000</td>\n",
       "      <td>18.100000</td>\n",
       "      <td>0.000000</td>\n",
       "      <td>0.624000</td>\n",
       "      <td>6.623500</td>\n",
       "      <td>94.075000</td>\n",
       "      <td>5.188425</td>\n",
       "      <td>24.000000</td>\n",
       "      <td>666.000000</td>\n",
       "      <td>20.200000</td>\n",
       "      <td>396.225000</td>\n",
       "      <td>16.955000</td>\n",
       "      <td>25.000000</td>\n",
       "    </tr>\n",
       "    <tr>\n",
       "      <th>max</th>\n",
       "      <td>88.976200</td>\n",
       "      <td>100.000000</td>\n",
       "      <td>27.740000</td>\n",
       "      <td>1.000000</td>\n",
       "      <td>0.871000</td>\n",
       "      <td>8.780000</td>\n",
       "      <td>100.000000</td>\n",
       "      <td>12.126500</td>\n",
       "      <td>24.000000</td>\n",
       "      <td>711.000000</td>\n",
       "      <td>22.000000</td>\n",
       "      <td>396.900000</td>\n",
       "      <td>37.970000</td>\n",
       "      <td>50.000000</td>\n",
       "    </tr>\n",
       "  </tbody>\n",
       "</table>\n",
       "</div>"
      ],
      "text/plain": [
       "             crim          zn       indus        chas         nox          rm  \\\n",
       "count  506.000000  506.000000  506.000000  506.000000  506.000000  506.000000   \n",
       "mean     3.613524   11.363636   11.136779    0.069170    0.554695    6.284634   \n",
       "std      8.601545   23.322453    6.860353    0.253994    0.115878    0.702617   \n",
       "min      0.006320    0.000000    0.460000    0.000000    0.385000    3.561000   \n",
       "25%      0.082045    0.000000    5.190000    0.000000    0.449000    5.885500   \n",
       "50%      0.256510    0.000000    9.690000    0.000000    0.538000    6.208500   \n",
       "75%      3.677082   12.500000   18.100000    0.000000    0.624000    6.623500   \n",
       "max     88.976200  100.000000   27.740000    1.000000    0.871000    8.780000   \n",
       "\n",
       "              age         dis         rad         tax     ptratio       black  \\\n",
       "count  506.000000  506.000000  506.000000  506.000000  506.000000  506.000000   \n",
       "mean    68.574901    3.795043    9.549407  408.237154   18.455534  356.674032   \n",
       "std     28.148861    2.105710    8.707259  168.537116    2.164946   91.294864   \n",
       "min      2.900000    1.129600    1.000000  187.000000   12.600000    0.320000   \n",
       "25%     45.025000    2.100175    4.000000  279.000000   17.400000  375.377500   \n",
       "50%     77.500000    3.207450    5.000000  330.000000   19.050000  391.440000   \n",
       "75%     94.075000    5.188425   24.000000  666.000000   20.200000  396.225000   \n",
       "max    100.000000   12.126500   24.000000  711.000000   22.000000  396.900000   \n",
       "\n",
       "            lstat        medv  \n",
       "count  506.000000  506.000000  \n",
       "mean    12.653063   22.532806  \n",
       "std      7.141062    9.197104  \n",
       "min      1.730000    5.000000  \n",
       "25%      6.950000   17.025000  \n",
       "50%     11.360000   21.200000  \n",
       "75%     16.955000   25.000000  \n",
       "max     37.970000   50.000000  "
      ]
     },
     "execution_count": 11,
     "metadata": {},
     "output_type": "execute_result"
    }
   ],
   "source": [
    "data.describe()"
   ]
  },
  {
   "cell_type": "markdown",
   "metadata": {},
   "source": [
    "## Training and Test Split 85% and 15%"
   ]
  },
  {
   "cell_type": "code",
   "execution_count": 12,
   "metadata": {},
   "outputs": [],
   "source": [
    "training_set ,test_set = train_test_split(data,test_size=0.15)"
   ]
  },
  {
   "cell_type": "markdown",
   "metadata": {},
   "source": [
    "# Build the model"
   ]
  },
  {
   "cell_type": "code",
   "execution_count": 13,
   "metadata": {},
   "outputs": [
    {
     "name": "stdout",
     "output_type": "stream",
     "text": [
      "_________________________________________________________________\n",
      "Layer (type)                 Output Shape              Param #   \n",
      "=================================================================\n",
      "dense (Dense)                (None, 10)                100       \n",
      "_________________________________________________________________\n",
      "dense_1 (Dense)              (None, 1)                 11        \n",
      "=================================================================\n",
      "Total params: 111\n",
      "Trainable params: 111\n",
      "Non-trainable params: 0\n",
      "_________________________________________________________________\n"
     ]
    }
   ],
   "source": [
    "model = tf.keras.Sequential()\n",
    "model.add(tf.keras.layers.Dense(10,  input_shape=(len(FEATURES),), activation=\"sigmoid\", kernel_initializer = tf.random_normal_initializer))\n",
    "model.add(tf.keras.layers.Dense(1,kernel_initializer = tf.random_normal_initializer)) \n",
    "model.summary()"
   ]
  },
  {
   "cell_type": "code",
   "execution_count": 14,
   "metadata": {},
   "outputs": [
    {
     "name": "stdout",
     "output_type": "stream",
     "text": [
      "(9, 10)\n"
     ]
    }
   ],
   "source": [
    "layer_input = model.layers[0]\n",
    "print(layer_input.get_weights()[0].shape)"
   ]
  },
  {
   "cell_type": "markdown",
   "metadata": {},
   "source": [
    "## Compile"
   ]
  },
  {
   "cell_type": "code",
   "execution_count": 15,
   "metadata": {},
   "outputs": [],
   "source": [
    "model.compile(optimizer='adam', loss='mean_squared_error', metrics=['mean_squared_error'])"
   ]
  },
  {
   "cell_type": "markdown",
   "metadata": {},
   "source": [
    "## Train the model"
   ]
  },
  {
   "cell_type": "code",
   "execution_count": 16,
   "metadata": {},
   "outputs": [
    {
     "name": "stdout",
     "output_type": "stream",
     "text": [
      "Train on 430 samples, validate on 76 samples\n",
      "Epoch 1/100\n",
      "430/430 [==============================] - 0s 425us/step - loss: 499.0207 - mean_squared_error: 499.0207 - val_loss: 539.1545 - val_mean_squared_error: 539.1545\n",
      "Epoch 2/100\n",
      "430/430 [==============================] - 0s 118us/step - loss: 469.4051 - mean_squared_error: 469.4051 - val_loss: 516.4804 - val_mean_squared_error: 516.4804\n",
      "Epoch 3/100\n",
      "430/430 [==============================] - 0s 127us/step - loss: 451.3959 - mean_squared_error: 451.3959 - val_loss: 498.6430 - val_mean_squared_error: 498.6430\n",
      "Epoch 4/100\n",
      "430/430 [==============================] - 0s 112us/step - loss: 434.6497 - mean_squared_error: 434.6497 - val_loss: 480.4726 - val_mean_squared_error: 480.4726\n",
      "Epoch 5/100\n",
      "430/430 [==============================] - 0s 111us/step - loss: 418.4302 - mean_squared_error: 418.4302 - val_loss: 463.4664 - val_mean_squared_error: 463.4664\n",
      "Epoch 6/100\n",
      "430/430 [==============================] - 0s 111us/step - loss: 401.1872 - mean_squared_error: 401.1872 - val_loss: 443.5591 - val_mean_squared_error: 443.5591\n",
      "Epoch 7/100\n",
      "430/430 [==============================] - 0s 129us/step - loss: 384.1605 - mean_squared_error: 384.1605 - val_loss: 426.9375 - val_mean_squared_error: 426.9375\n",
      "Epoch 8/100\n",
      "430/430 [==============================] - 0s 113us/step - loss: 368.2682 - mean_squared_error: 368.2682 - val_loss: 410.8010 - val_mean_squared_error: 410.8010\n",
      "Epoch 9/100\n",
      "430/430 [==============================] - 0s 113us/step - loss: 352.6822 - mean_squared_error: 352.6822 - val_loss: 394.3501 - val_mean_squared_error: 394.3501\n",
      "Epoch 10/100\n",
      "430/430 [==============================] - 0s 113us/step - loss: 337.0057 - mean_squared_error: 337.0057 - val_loss: 376.9563 - val_mean_squared_error: 376.9563\n",
      "Epoch 11/100\n",
      "430/430 [==============================] - 0s 112us/step - loss: 321.2770 - mean_squared_error: 321.2770 - val_loss: 360.4511 - val_mean_squared_error: 360.4511\n",
      "Epoch 12/100\n",
      "430/430 [==============================] - 0s 142us/step - loss: 305.1099 - mean_squared_error: 305.1099 - val_loss: 344.7333 - val_mean_squared_error: 344.7333\n",
      "Epoch 13/100\n",
      "430/430 [==============================] - 0s 122us/step - loss: 291.3109 - mean_squared_error: 291.3109 - val_loss: 330.3718 - val_mean_squared_error: 330.3718\n",
      "Epoch 14/100\n",
      "430/430 [==============================] - 0s 102us/step - loss: 278.6445 - mean_squared_error: 278.6445 - val_loss: 317.9788 - val_mean_squared_error: 317.9788\n",
      "Epoch 15/100\n",
      "430/430 [==============================] - 0s 100us/step - loss: 266.8456 - mean_squared_error: 266.8456 - val_loss: 304.2288 - val_mean_squared_error: 304.2288\n",
      "Epoch 16/100\n",
      "430/430 [==============================] - 0s 99us/step - loss: 255.3274 - mean_squared_error: 255.3274 - val_loss: 291.5643 - val_mean_squared_error: 291.5643\n",
      "Epoch 17/100\n",
      "430/430 [==============================] - 0s 107us/step - loss: 243.9302 - mean_squared_error: 243.9302 - val_loss: 279.8905 - val_mean_squared_error: 279.8905\n",
      "Epoch 18/100\n",
      "430/430 [==============================] - 0s 109us/step - loss: 233.3409 - mean_squared_error: 233.3409 - val_loss: 268.4617 - val_mean_squared_error: 268.4617\n",
      "Epoch 19/100\n",
      "430/430 [==============================] - 0s 124us/step - loss: 223.5625 - mean_squared_error: 223.5625 - val_loss: 257.1314 - val_mean_squared_error: 257.1314\n",
      "Epoch 20/100\n",
      "430/430 [==============================] - 0s 123us/step - loss: 213.7611 - mean_squared_error: 213.7611 - val_loss: 247.5130 - val_mean_squared_error: 247.5130\n",
      "Epoch 21/100\n",
      "430/430 [==============================] - 0s 116us/step - loss: 204.9944 - mean_squared_error: 204.9944 - val_loss: 238.2537 - val_mean_squared_error: 238.2537\n",
      "Epoch 22/100\n",
      "430/430 [==============================] - 0s 113us/step - loss: 196.9009 - mean_squared_error: 196.9009 - val_loss: 229.6064 - val_mean_squared_error: 229.6064\n",
      "Epoch 23/100\n",
      "430/430 [==============================] - 0s 91us/step - loss: 189.2727 - mean_squared_error: 189.2727 - val_loss: 221.3518 - val_mean_squared_error: 221.3518\n",
      "Epoch 24/100\n",
      "430/430 [==============================] - 0s 97us/step - loss: 182.0539 - mean_squared_error: 182.0539 - val_loss: 213.6703 - val_mean_squared_error: 213.6703\n",
      "Epoch 25/100\n",
      "430/430 [==============================] - 0s 96us/step - loss: 175.2610 - mean_squared_error: 175.2610 - val_loss: 206.1659 - val_mean_squared_error: 206.1659\n",
      "Epoch 26/100\n",
      "430/430 [==============================] - 0s 94us/step - loss: 168.7931 - mean_squared_error: 168.7931 - val_loss: 199.1862 - val_mean_squared_error: 199.1862\n",
      "Epoch 27/100\n",
      "430/430 [==============================] - 0s 98us/step - loss: 162.7055 - mean_squared_error: 162.7055 - val_loss: 192.5039 - val_mean_squared_error: 192.5039\n",
      "Epoch 28/100\n",
      "430/430 [==============================] - 0s 95us/step - loss: 156.9813 - mean_squared_error: 156.9813 - val_loss: 185.9879 - val_mean_squared_error: 185.9879\n",
      "Epoch 29/100\n",
      "430/430 [==============================] - 0s 94us/step - loss: 151.5291 - mean_squared_error: 151.5291 - val_loss: 180.0192 - val_mean_squared_error: 180.0192\n",
      "Epoch 30/100\n",
      "430/430 [==============================] - 0s 96us/step - loss: 146.3994 - mean_squared_error: 146.3994 - val_loss: 174.4781 - val_mean_squared_error: 174.4781\n",
      "Epoch 31/100\n",
      "430/430 [==============================] - 0s 97us/step - loss: 141.6185 - mean_squared_error: 141.6185 - val_loss: 168.9481 - val_mean_squared_error: 168.9481\n",
      "Epoch 32/100\n",
      "430/430 [==============================] - 0s 97us/step - loss: 137.0754 - mean_squared_error: 137.0754 - val_loss: 163.8804 - val_mean_squared_error: 163.8804\n",
      "Epoch 33/100\n",
      "430/430 [==============================] - 0s 94us/step - loss: 132.8211 - mean_squared_error: 132.8211 - val_loss: 159.0721 - val_mean_squared_error: 159.0721\n",
      "Epoch 34/100\n",
      "430/430 [==============================] - 0s 106us/step - loss: 128.8289 - mean_squared_error: 128.8289 - val_loss: 154.5041 - val_mean_squared_error: 154.5041\n",
      "Epoch 35/100\n",
      "430/430 [==============================] - 0s 95us/step - loss: 125.0571 - mean_squared_error: 125.0571 - val_loss: 150.3077 - val_mean_squared_error: 150.3077\n",
      "Epoch 36/100\n",
      "430/430 [==============================] - 0s 94us/step - loss: 121.5634 - mean_squared_error: 121.5634 - val_loss: 146.2798 - val_mean_squared_error: 146.2798\n",
      "Epoch 37/100\n",
      "430/430 [==============================] - 0s 94us/step - loss: 118.2707 - mean_squared_error: 118.2707 - val_loss: 142.5800 - val_mean_squared_error: 142.5800\n",
      "Epoch 38/100\n",
      "430/430 [==============================] - 0s 95us/step - loss: 115.2195 - mean_squared_error: 115.2195 - val_loss: 138.9895 - val_mean_squared_error: 138.9895\n",
      "Epoch 39/100\n",
      "430/430 [==============================] - 0s 94us/step - loss: 112.3546 - mean_squared_error: 112.3546 - val_loss: 135.6350 - val_mean_squared_error: 135.6350\n",
      "Epoch 40/100\n",
      "430/430 [==============================] - 0s 101us/step - loss: 109.6918 - mean_squared_error: 109.6918 - val_loss: 132.4696 - val_mean_squared_error: 132.4696\n",
      "Epoch 41/100\n",
      "430/430 [==============================] - 0s 94us/step - loss: 107.2267 - mean_squared_error: 107.2267 - val_loss: 129.5075 - val_mean_squared_error: 129.5075\n",
      "Epoch 42/100\n",
      "430/430 [==============================] - 0s 95us/step - loss: 104.9535 - mean_squared_error: 104.9535 - val_loss: 126.7894 - val_mean_squared_error: 126.7894\n",
      "Epoch 43/100\n",
      "430/430 [==============================] - 0s 96us/step - loss: 102.8391 - mean_squared_error: 102.8391 - val_loss: 124.3216 - val_mean_squared_error: 124.3216\n",
      "Epoch 44/100\n",
      "430/430 [==============================] - 0s 95us/step - loss: 100.9057 - mean_squared_error: 100.9057 - val_loss: 121.8889 - val_mean_squared_error: 121.8889\n",
      "Epoch 45/100\n",
      "430/430 [==============================] - 0s 93us/step - loss: 99.0928 - mean_squared_error: 99.0928 - val_loss: 119.6804 - val_mean_squared_error: 119.6804\n",
      "Epoch 46/100\n",
      "430/430 [==============================] - 0s 94us/step - loss: 97.4225 - mean_squared_error: 97.4225 - val_loss: 117.6476 - val_mean_squared_error: 117.6476\n",
      "Epoch 47/100\n",
      "430/430 [==============================] - 0s 104us/step - loss: 95.9232 - mean_squared_error: 95.9232 - val_loss: 115.5721 - val_mean_squared_error: 115.5721\n",
      "Epoch 48/100\n",
      "430/430 [==============================] - 0s 99us/step - loss: 94.5031 - mean_squared_error: 94.5031 - val_loss: 113.8626 - val_mean_squared_error: 113.8626\n",
      "Epoch 49/100\n",
      "430/430 [==============================] - 0s 95us/step - loss: 93.2737 - mean_squared_error: 93.2737 - val_loss: 112.1381 - val_mean_squared_error: 112.1381\n",
      "Epoch 50/100\n",
      "430/430 [==============================] - 0s 96us/step - loss: 92.0961 - mean_squared_error: 92.0961 - val_loss: 110.6750 - val_mean_squared_error: 110.6750\n",
      "Epoch 51/100\n",
      "430/430 [==============================] - 0s 93us/step - loss: 91.0377 - mean_squared_error: 91.0377 - val_loss: 109.3852 - val_mean_squared_error: 109.3852\n",
      "Epoch 52/100\n",
      "430/430 [==============================] - 0s 95us/step - loss: 90.0911 - mean_squared_error: 90.0911 - val_loss: 108.1281 - val_mean_squared_error: 108.1281\n",
      "Epoch 53/100\n",
      "430/430 [==============================] - 0s 99us/step - loss: 89.2278 - mean_squared_error: 89.2278 - val_loss: 106.8091 - val_mean_squared_error: 106.8091\n",
      "Epoch 54/100\n",
      "430/430 [==============================] - 0s 97us/step - loss: 88.4274 - mean_squared_error: 88.4274 - val_loss: 105.7004 - val_mean_squared_error: 105.7004\n",
      "Epoch 55/100\n",
      "430/430 [==============================] - 0s 94us/step - loss: 87.7198 - mean_squared_error: 87.7198 - val_loss: 104.6366 - val_mean_squared_error: 104.6366\n",
      "Epoch 56/100\n",
      "430/430 [==============================] - 0s 95us/step - loss: 87.0796 - mean_squared_error: 87.0796 - val_loss: 103.7286 - val_mean_squared_error: 103.7286\n",
      "Epoch 57/100\n",
      "430/430 [==============================] - 0s 95us/step - loss: 86.5248 - mean_squared_error: 86.5248 - val_loss: 102.8785 - val_mean_squared_error: 102.8785\n",
      "Epoch 58/100\n",
      "430/430 [==============================] - 0s 97us/step - loss: 86.0175 - mean_squared_error: 86.0175 - val_loss: 102.1283 - val_mean_squared_error: 102.1283\n",
      "Epoch 59/100\n",
      "430/430 [==============================] - 0s 96us/step - loss: 85.5668 - mean_squared_error: 85.5668 - val_loss: 101.4331 - val_mean_squared_error: 101.4331\n",
      "Epoch 60/100\n",
      "430/430 [==============================] - 0s 96us/step - loss: 85.1697 - mean_squared_error: 85.1697 - val_loss: 100.7378 - val_mean_squared_error: 100.7378\n",
      "Epoch 61/100\n",
      "430/430 [==============================] - 0s 95us/step - loss: 84.8204 - mean_squared_error: 84.8204 - val_loss: 100.2652 - val_mean_squared_error: 100.2652\n",
      "Epoch 62/100\n",
      "430/430 [==============================] - 0s 96us/step - loss: 84.5164 - mean_squared_error: 84.5164 - val_loss: 99.6306 - val_mean_squared_error: 99.6306\n",
      "Epoch 63/100\n",
      "430/430 [==============================] - 0s 94us/step - loss: 84.2245 - mean_squared_error: 84.2245 - val_loss: 99.1589 - val_mean_squared_error: 99.1589\n",
      "Epoch 64/100\n",
      "430/430 [==============================] - 0s 94us/step - loss: 84.0023 - mean_squared_error: 84.0023 - val_loss: 98.6704 - val_mean_squared_error: 98.6704\n",
      "Epoch 65/100\n",
      "430/430 [==============================] - 0s 95us/step - loss: 83.7763 - mean_squared_error: 83.7763 - val_loss: 98.2769 - val_mean_squared_error: 98.2769\n",
      "Epoch 66/100\n",
      "430/430 [==============================] - 0s 95us/step - loss: 83.6095 - mean_squared_error: 83.6095 - val_loss: 97.9163 - val_mean_squared_error: 97.9163\n",
      "Epoch 67/100\n",
      "430/430 [==============================] - 0s 93us/step - loss: 83.4503 - mean_squared_error: 83.4503 - val_loss: 97.5903 - val_mean_squared_error: 97.5903\n",
      "Epoch 68/100\n",
      "430/430 [==============================] - 0s 98us/step - loss: 83.3082 - mean_squared_error: 83.3082 - val_loss: 97.3111 - val_mean_squared_error: 97.3111\n",
      "Epoch 69/100\n",
      "430/430 [==============================] - 0s 99us/step - loss: 83.1866 - mean_squared_error: 83.1866 - val_loss: 97.0951 - val_mean_squared_error: 97.0951\n",
      "Epoch 70/100\n",
      "430/430 [==============================] - 0s 95us/step - loss: 83.1017 - mean_squared_error: 83.1017 - val_loss: 96.8001 - val_mean_squared_error: 96.8001\n",
      "Epoch 71/100\n",
      "430/430 [==============================] - 0s 94us/step - loss: 83.0063 - mean_squared_error: 83.0063 - val_loss: 96.5929 - val_mean_squared_error: 96.5929\n",
      "Epoch 72/100\n",
      "430/430 [==============================] - 0s 95us/step - loss: 82.9336 - mean_squared_error: 82.9336 - val_loss: 96.3730 - val_mean_squared_error: 96.3730\n",
      "Epoch 73/100\n",
      "430/430 [==============================] - 0s 95us/step - loss: 82.8685 - mean_squared_error: 82.8685 - val_loss: 96.2176 - val_mean_squared_error: 96.2176\n",
      "Epoch 74/100\n",
      "430/430 [==============================] - 0s 98us/step - loss: 82.8158 - mean_squared_error: 82.8158 - val_loss: 96.0595 - val_mean_squared_error: 96.0595\n",
      "Epoch 75/100\n",
      "430/430 [==============================] - 0s 97us/step - loss: 82.7727 - mean_squared_error: 82.7727 - val_loss: 95.9292 - val_mean_squared_error: 95.9292\n",
      "Epoch 76/100\n",
      "430/430 [==============================] - 0s 96us/step - loss: 82.7286 - mean_squared_error: 82.7286 - val_loss: 95.8143 - val_mean_squared_error: 95.8143\n",
      "Epoch 77/100\n",
      "430/430 [==============================] - 0s 94us/step - loss: 82.6956 - mean_squared_error: 82.6956 - val_loss: 95.6745 - val_mean_squared_error: 95.6745\n",
      "Epoch 78/100\n",
      "430/430 [==============================] - 0s 93us/step - loss: 82.6645 - mean_squared_error: 82.6645 - val_loss: 95.5433 - val_mean_squared_error: 95.5433\n",
      "Epoch 79/100\n",
      "430/430 [==============================] - 0s 101us/step - loss: 82.6414 - mean_squared_error: 82.6414 - val_loss: 95.4660 - val_mean_squared_error: 95.4660\n",
      "Epoch 80/100\n",
      "430/430 [==============================] - 0s 93us/step - loss: 82.6243 - mean_squared_error: 82.6243 - val_loss: 95.3602 - val_mean_squared_error: 95.3602\n",
      "Epoch 81/100\n",
      "430/430 [==============================] - 0s 93us/step - loss: 82.6341 - mean_squared_error: 82.6341 - val_loss: 95.2496 - val_mean_squared_error: 95.2496\n",
      "Epoch 82/100\n",
      "430/430 [==============================] - 0s 95us/step - loss: 82.5986 - mean_squared_error: 82.5986 - val_loss: 95.2209 - val_mean_squared_error: 95.2209\n",
      "Epoch 83/100\n",
      "430/430 [==============================] - 0s 95us/step - loss: 82.5878 - mean_squared_error: 82.5878 - val_loss: 95.1857 - val_mean_squared_error: 95.1857\n",
      "Epoch 84/100\n",
      "430/430 [==============================] - 0s 96us/step - loss: 82.5828 - mean_squared_error: 82.5828 - val_loss: 95.1291 - val_mean_squared_error: 95.1291\n",
      "Epoch 85/100\n",
      "430/430 [==============================] - 0s 93us/step - loss: 82.5910 - mean_squared_error: 82.5910 - val_loss: 95.0736 - val_mean_squared_error: 95.0736\n",
      "Epoch 86/100\n",
      "430/430 [==============================] - 0s 95us/step - loss: 82.5708 - mean_squared_error: 82.5708 - val_loss: 95.0143 - val_mean_squared_error: 95.0143\n",
      "Epoch 87/100\n",
      "430/430 [==============================] - 0s 94us/step - loss: 82.5756 - mean_squared_error: 82.5756 - val_loss: 95.0101 - val_mean_squared_error: 95.0101\n",
      "Epoch 88/100\n",
      "430/430 [==============================] - 0s 94us/step - loss: 82.5595 - mean_squared_error: 82.5595 - val_loss: 94.9851 - val_mean_squared_error: 94.9851\n",
      "Epoch 89/100\n",
      "430/430 [==============================] - 0s 98us/step - loss: 82.5583 - mean_squared_error: 82.5583 - val_loss: 94.9164 - val_mean_squared_error: 94.9164\n",
      "Epoch 90/100\n",
      "430/430 [==============================] - 0s 92us/step - loss: 82.5563 - mean_squared_error: 82.5563 - val_loss: 94.9263 - val_mean_squared_error: 94.9263\n",
      "Epoch 91/100\n",
      "430/430 [==============================] - 0s 96us/step - loss: 82.5490 - mean_squared_error: 82.5490 - val_loss: 94.8529 - val_mean_squared_error: 94.8529\n",
      "Epoch 92/100\n",
      "430/430 [==============================] - 0s 100us/step - loss: 82.5505 - mean_squared_error: 82.5505 - val_loss: 94.8619 - val_mean_squared_error: 94.8619\n",
      "Epoch 93/100\n",
      "430/430 [==============================] - 0s 96us/step - loss: 82.5548 - mean_squared_error: 82.5548 - val_loss: 94.7757 - val_mean_squared_error: 94.7757\n",
      "Epoch 94/100\n",
      "430/430 [==============================] - 0s 95us/step - loss: 82.5514 - mean_squared_error: 82.5514 - val_loss: 94.8070 - val_mean_squared_error: 94.8070\n",
      "Epoch 95/100\n",
      "430/430 [==============================] - 0s 97us/step - loss: 82.5648 - mean_squared_error: 82.5648 - val_loss: 94.7973 - val_mean_squared_error: 94.7973\n",
      "Epoch 96/100\n",
      "430/430 [==============================] - 0s 96us/step - loss: 82.5579 - mean_squared_error: 82.5579 - val_loss: 94.7421 - val_mean_squared_error: 94.7421\n",
      "Epoch 97/100\n",
      "430/430 [==============================] - 0s 99us/step - loss: 82.5496 - mean_squared_error: 82.5496 - val_loss: 94.7784 - val_mean_squared_error: 94.7784\n",
      "Epoch 98/100\n",
      "430/430 [==============================] - 0s 100us/step - loss: 82.5701 - mean_squared_error: 82.5701 - val_loss: 94.7609 - val_mean_squared_error: 94.7609\n",
      "Epoch 99/100\n",
      "430/430 [==============================] - 0s 95us/step - loss: 82.5523 - mean_squared_error: 82.5523 - val_loss: 94.7499 - val_mean_squared_error: 94.7499\n",
      "Epoch 100/100\n",
      "430/430 [==============================] - 0s 98us/step - loss: 82.5585 - mean_squared_error: 82.5585 - val_loss: 94.8009 - val_mean_squared_error: 94.8009\n"
     ]
    }
   ],
   "source": [
    "training_model = model.fit(training_set[FEATURES].values, \n",
    "          training_set[LABEL].values, \n",
    "          epochs=epochs_value,\n",
    "          batch_size=batch_size_value,\n",
    "          validation_data=(test_set[FEATURES].values, test_set[LABEL].values))"
   ]
  },
  {
   "cell_type": "markdown",
   "metadata": {},
   "source": [
    "## Plot mean squared error"
   ]
  },
  {
   "cell_type": "code",
   "execution_count": 19,
   "metadata": {},
   "outputs": [
    {
     "data": {
      "image/png": "[encoded data removed]",
      "text/plain": [
       "<Figure size 432x288 with 1 Axes>"
      ]
     },
     "metadata": {},
     "output_type": "display_data"
    }
   ],
   "source": [
    "plt.plot(training_model.history['mean_squared_error'][-50:], 'r+', label='training mean_squared_error')\n",
    "plt.plot(training_model.history['val_mean_squared_error'][-50:], 'y.', label='evaluation mean_squared_error')\n",
    "plt.xlabel('Epochs')\n",
    "plt.show()"
   ]
  },
  {
   "cell_type": "markdown",
   "metadata": {},
   "source": [
    "## Evaluate on test data"
   ]
  },
  {
   "cell_type": "code",
   "execution_count": 20,
   "metadata": {},
   "outputs": [
    {
     "name": "stdout",
     "output_type": "stream",
     "text": [
      "76/76 [==============================] - 0s 72us/step\n"
     ]
    },
    {
     "data": {
      "text/plain": [
       "[94.8009080384907, 94.8009080384907]"
      ]
     },
     "execution_count": 20,
     "metadata": {},
     "output_type": "execute_result"
    }
   ],
   "source": [
    "model.evaluate(test_set[FEATURES].values, test_set[LABEL].values) # [81, 81]"
   ]
  },
  {
   "cell_type": "markdown",
   "metadata": {},
   "source": [
    "## Making Predictions"
   ]
  },
  {
   "cell_type": "code",
   "execution_count": 21,
   "metadata": {},
   "outputs": [],
   "source": [
    "predictions = model.predict(x=test_set[FEATURES].values) #, verbose=1)"
   ]
  },
  {
   "cell_type": "markdown",
   "metadata": {},
   "source": [
    "## RMSE"
   ]
  },
  {
   "cell_type": "code",
   "execution_count": 22,
   "metadata": {},
   "outputs": [
    {
     "name": "stdout",
     "output_type": "stream",
     "text": [
      "RMSE:  9.736575796665552\n"
     ]
    }
   ],
   "source": [
    "rmse = np.sqrt(mean_squared_error(test_set[LABEL].values, predictions))\n",
    "print(\"RMSE: \", rmse) # 9.03"
   ]
  },
  {
   "cell_type": "markdown",
   "metadata": {},
   "source": [
    "# Question 1: re-train the model by using the following DNN topology (adding a new layer with 100 nodes). A) Plot \"mean squared error\" for the new DNN topology and compare the result with the initial DNN network. B) Calcuate the number of new parameters. C) What is the impact on \"mean squared error\" when using a larger network topology? why?"
   ]
  },
  {
   "cell_type": "markdown",
   "metadata": {},
   "source": [
    "##\n",
    "### model = tf.keras.Sequential()\n",
    "### model.add(tf.keras.layers.Dense(10,  input_shape=(len(FEATURES),), activation=\"relu\", kernel_initializer = tf.random_normal_initializer))\n",
    "### model.add(tf.keras.layers.Dense(100, activation=\"relu\", kernel_initializer = tf.random_normal_initializer))\n",
    "### model.add(tf.keras.layers.Dense(1,kernel_initializer = tf.random_normal_initializer)) \n",
    "##"
   ]
  },
  {
   "cell_type": "markdown",
   "metadata": {},
   "source": [
    "# Question 2: change the value of epochs_value = 100 to epochs_value = 300. what is the learning impact why?"
   ]
  },
  {
   "cell_type": "code",
   "execution_count": null,
   "metadata": {},
   "outputs": [],
   "source": []
  }
 ],
 "metadata": {
  "kernelspec": {
   "display_name": "Python 3",
   "language": "python",
   "name": "python3"
  },
  "language_info": {
   "codemirror_mode": {
    "name": "ipython",
    "version": 3
   },
   "file_extension": ".py",
   "mimetype": "text/x-python",
   "name": "python",
   "nbconvert_exporter": "python",
   "pygments_lexer": "ipython3",
   "version": "3.5.2"
  }
 },
 "nbformat": 4,
 "nbformat_minor": 2
}
