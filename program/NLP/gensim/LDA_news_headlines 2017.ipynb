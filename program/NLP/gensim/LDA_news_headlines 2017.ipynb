{
 "cells": [
  {
   "cell_type": "markdown",
   "metadata": {},
   "source": [
    "## Topic Modeling with Gensim\n",
    "Topic Modeling is a technique to extract the hidden topics from large volumes of text. Latent Dirichlet Allocation(LDA) is a popular algorithm for topic modeling with excellent implementations in the Python’s Gensim package.\n",
    "\n",
    "ref: https://www.machinelearningplus.com/nlp/ "
   ]
  },
  {
   "cell_type": "code",
   "execution_count": null,
   "metadata": {},
   "outputs": [],
   "source": [
    "import nltk\n",
    "from nltk.stem import WordNetLemmatizer, SnowballStemmer\n",
    "from nltk.stem.porter import *\n",
    "from nltk.corpus import stopwords\n",
    "from nltk.corpus import wordnet\n",
    "\n",
    "\n",
    "import gensim\n",
    "from gensim.utils import simple_preprocess\n",
    "from gensim.parsing.preprocessing import STOPWORDS\n",
    "import gensim.corpora as corpora\n",
    "from gensim.models import CoherenceModel\n",
    "\n",
    "# Plotting tools\n",
    "import pyLDAvis\n",
    "import pyLDAvis.gensim  # don't skip this\n",
    "import matplotlib.pyplot as plt\n",
    "%matplotlib inline\n",
    "\n",
    "import pandas as pd\n",
    "import numpy as np\n",
    "from pprint import pprint\n",
    "\n",
    "np.random.seed(2018)"
   ]
  },
  {
   "cell_type": "code",
   "execution_count": 15,
   "metadata": {},
   "outputs": [],
   "source": [
    "# Define functions for stopwords, bigrams, trigrams and lemmatization\n",
    "def remove_stopwords(texts):\n",
    "    return [[word for word in simple_preprocess(str(doc)) if word not in stop_words] for doc in texts]\n",
    "\n",
    "def get_wordnet_pos(word):\n",
    "    \"\"\"Map POS tag to first character lemmatize() accepts\"\"\"\n",
    "    tag = nltk.pos_tag([word])[0][1][0].upper()\n",
    "    tag_dict = {\"J\": wordnet.ADJ,\n",
    "                \"N\": wordnet.NOUN,\n",
    "                \"V\": wordnet.VERB,\n",
    "                \"R\": wordnet.ADV}\n",
    "    return tag_dict.get(tag, wordnet.NOUN)\n",
    "\n",
    "def lemmatization(texts):\n",
    "    # Init Lemmatizer\n",
    "    lemmatizer = WordNetLemmatizer()\n",
    "    texts_out = []\n",
    "    for sent in texts:\n",
    "        texts_out.append([lemmatizer.lemmatize(token, get_wordnet_pos(token)) for token in sent])\n",
    "    return texts_out\n",
    "\n",
    "def sent_to_words(sentences):\n",
    "    for sentence in sentences:\n",
    "        yield(gensim.utils.simple_preprocess(str(sentence), deacc=True))  # deacc=True removes punctuations"
   ]
  },
  {
   "cell_type": "code",
   "execution_count": 16,
   "metadata": {},
   "outputs": [
    {
     "name": "stderr",
     "output_type": "stream",
     "text": [
      "[nltk_data] Downloading package averaged_perceptron_tagger to\n",
      "[nltk_data]     /home/ubuntu/nltk_data...\n",
      "[nltk_data]   Package averaged_perceptron_tagger is already up-to-\n",
      "[nltk_data]       date!\n",
      "[nltk_data] Downloading package wordnet to /home/ubuntu/nltk_data...\n",
      "[nltk_data]   Package wordnet is already up-to-date!\n",
      "[nltk_data] Downloading package stopwords to /home/ubuntu/nltk_data...\n",
      "[nltk_data]   Package stopwords is already up-to-date!\n"
     ]
    },
    {
     "data": {
      "text/plain": [
       "True"
      ]
     },
     "execution_count": 16,
     "metadata": {},
     "output_type": "execute_result"
    }
   ],
   "source": [
    "nltk.download('averaged_perceptron_tagger')\n",
    "nltk.download('wordnet')\n",
    "nltk.download('stopwords')"
   ]
  },
  {
   "cell_type": "code",
   "execution_count": 17,
   "metadata": {},
   "outputs": [],
   "source": [
    "stop_words = stopwords.words('english')\n",
    "stop_words.extend(['from', 'subject', 're', 'edu', 'use'])\n",
    "#pprint(stop_words)"
   ]
  },
  {
   "cell_type": "code",
   "execution_count": 18,
   "metadata": {},
   "outputs": [],
   "source": [
    "headers = pd.read_csv('abcnews-2017.csv', error_bad_lines=False);"
   ]
  },
  {
   "cell_type": "code",
   "execution_count": 19,
   "metadata": {},
   "outputs": [
    {
     "data": {
      "text/html": [
       "<div>\n",
       "<style scoped>\n",
       "    .dataframe tbody tr th:only-of-type {\n",
       "        vertical-align: middle;\n",
       "    }\n",
       "\n",
       "    .dataframe tbody tr th {\n",
       "        vertical-align: top;\n",
       "    }\n",
       "\n",
       "    .dataframe thead th {\n",
       "        text-align: right;\n",
       "    }\n",
       "</style>\n",
       "<table border=\"1\" class=\"dataframe\">\n",
       "  <thead>\n",
       "    <tr style=\"text-align: right;\">\n",
       "      <th></th>\n",
       "      <th>headline_text</th>\n",
       "      <th>date</th>\n",
       "    </tr>\n",
       "  </thead>\n",
       "  <tbody>\n",
       "    <tr>\n",
       "      <th>0</th>\n",
       "      <td>1986 queensland cabinet documents released</td>\n",
       "      <td>20170101</td>\n",
       "    </tr>\n",
       "    <tr>\n",
       "      <th>1</th>\n",
       "      <td>actor william cristopher mash chaplain dead at 84</td>\n",
       "      <td>20170101</td>\n",
       "    </tr>\n",
       "    <tr>\n",
       "      <th>2</th>\n",
       "      <td>adelaide hip hop artist dreams becoming influe...</td>\n",
       "      <td>20170101</td>\n",
       "    </tr>\n",
       "    <tr>\n",
       "      <th>3</th>\n",
       "      <td>adelaide's new year's fireworks</td>\n",
       "      <td>20170101</td>\n",
       "    </tr>\n",
       "    <tr>\n",
       "      <th>4</th>\n",
       "      <td>adelaides new years fireworks</td>\n",
       "      <td>20170101</td>\n",
       "    </tr>\n",
       "  </tbody>\n",
       "</table>\n",
       "</div>"
      ],
      "text/plain": [
       "                                       headline_text      date\n",
       "0         1986 queensland cabinet documents released  20170101\n",
       "1  actor william cristopher mash chaplain dead at 84  20170101\n",
       "2  adelaide hip hop artist dreams becoming influe...  20170101\n",
       "3                    adelaide's new year's fireworks  20170101\n",
       "4                      adelaides new years fireworks  20170101"
      ]
     },
     "execution_count": 19,
     "metadata": {},
     "output_type": "execute_result"
    }
   ],
   "source": [
    "headers[:5]"
   ]
  },
  {
   "cell_type": "markdown",
   "metadata": {},
   "source": [
    "### Data Preprocessing"
   ]
  },
  {
   "cell_type": "markdown",
   "metadata": {},
   "source": [
    "#### Lemmatize example"
   ]
  },
  {
   "cell_type": "code",
   "execution_count": 20,
   "metadata": {},
   "outputs": [
    {
     "name": "stdout",
     "output_type": "stream",
     "text": [
      "['1986 queensland cabinet documents released']\n"
     ]
    }
   ],
   "source": [
    "# Convert to list\n",
    "data = headers.headline_text.values.tolist()\n",
    "pprint(data[:1])"
   ]
  },
  {
   "cell_type": "markdown",
   "metadata": {},
   "source": [
    "## Tokenize words"
   ]
  },
  {
   "cell_type": "code",
   "execution_count": 21,
   "metadata": {},
   "outputs": [
    {
     "name": "stdout",
     "output_type": "stream",
     "text": [
      "[['queensland', 'cabinet', 'documents', 'released'],\n",
      " ['actor', 'william', 'cristopher', 'mash', 'chaplain', 'dead', 'at']]\n"
     ]
    }
   ],
   "source": [
    "data_words = list(sent_to_words(data))\n",
    "pprint(data_words[:2])"
   ]
  },
  {
   "cell_type": "markdown",
   "metadata": {},
   "source": [
    "## Remove Stopwords"
   ]
  },
  {
   "cell_type": "code",
   "execution_count": 22,
   "metadata": {},
   "outputs": [
    {
     "name": "stdout",
     "output_type": "stream",
     "text": [
      "[['queensland', 'cabinet', 'documents', 'released'],\n",
      " ['actor', 'william', 'cristopher', 'mash', 'chaplain', 'dead']]\n"
     ]
    }
   ],
   "source": [
    "# Remove Stop Words\n",
    "data_words_nostops = remove_stopwords(data_words)\n",
    "pprint(data_words_nostops[:2])"
   ]
  },
  {
   "cell_type": "code",
   "execution_count": 23,
   "metadata": {},
   "outputs": [
    {
     "name": "stdout",
     "output_type": "stream",
     "text": [
      "[['queensland', 'cabinet', 'document', 'release'],\n",
      " ['actor', 'william', 'cristopher', 'mash', 'chaplain', 'dead']]\n"
     ]
    }
   ],
   "source": [
    "data_lemmatized = lemmatization(data_words_nostops)\n",
    "pprint(data_lemmatized[:2])"
   ]
  },
  {
   "cell_type": "markdown",
   "metadata": {},
   "source": [
    "## Create the Dictionary and Corpus for Topic Modeling"
   ]
  },
  {
   "cell_type": "code",
   "execution_count": 24,
   "metadata": {},
   "outputs": [
    {
     "name": "stdout",
     "output_type": "stream",
     "text": [
      "[[(0, 1), (1, 1), (2, 1), (3, 1)]]\n"
     ]
    }
   ],
   "source": [
    "# Create Dictionary\n",
    "id2word = corpora.Dictionary(data_lemmatized)\n",
    "\n",
    "# Create Corpus\n",
    "texts = data_lemmatized\n",
    "\n",
    "# Term Document Frequency\n",
    "corpus = [id2word.doc2bow(text) for text in texts]\n",
    "\n",
    "# View\n",
    "pprint(corpus[:1])"
   ]
  },
  {
   "cell_type": "code",
   "execution_count": 25,
   "metadata": {},
   "outputs": [
    {
     "data": {
      "text/plain": [
       "[[('cabinet', 1), ('document', 1), ('queensland', 1), ('release', 1)]]"
      ]
     },
     "execution_count": 25,
     "metadata": {},
     "output_type": "execute_result"
    }
   ],
   "source": [
    "# If you want to see what word a given id corresponds to, pass the id as a key to the dictionary.\n",
    "id2word[0]\n",
    "\n",
    "# Human readable format of corpus (term-frequency)\n",
    "[[(id2word[id], freq) for id, freq in cp] for cp in corpus[:1]]"
   ]
  },
  {
   "cell_type": "markdown",
   "metadata": {},
   "source": [
    "## Building the Topic Model"
   ]
  },
  {
   "cell_type": "code",
   "execution_count": 26,
   "metadata": {},
   "outputs": [],
   "source": [
    "# Build LDA model\n",
    "lda_model = gensim.models.ldamodel.LdaModel(corpus=corpus,\n",
    "                                           id2word=id2word,\n",
    "                                           num_topics=10, \n",
    "                                           random_state=100,\n",
    "                                           update_every=1,\n",
    "                                           chunksize=100,\n",
    "                                           passes=10,\n",
    "                                           alpha='auto',\n",
    "                                           per_word_topics=True)"
   ]
  },
  {
   "cell_type": "markdown",
   "metadata": {},
   "source": [
    "## List the topics in LDA model"
   ]
  },
  {
   "cell_type": "code",
   "execution_count": 27,
   "metadata": {},
   "outputs": [
    {
     "name": "stdout",
     "output_type": "stream",
     "text": [
      "[(0,\n",
      "  '0.058*\"australia\" + 0.034*\"charge\" + 0.029*\"nsw\" + 0.020*\"report\" + '\n",
      "  '0.018*\"murder\" + 0.016*\"south\" + 0.015*\"bank\" + 0.015*\"test\" + '\n",
      "  '0.013*\"scorecentre\" + 0.013*\"canberra\"'),\n",
      " (1,\n",
      "  '0.050*\"say\" + 0.050*\"police\" + 0.030*\"man\" + 0.022*\"take\" + 0.019*\"cup\" + '\n",
      "  '0.017*\"queensland\" + 0.017*\"show\" + 0.014*\"rise\" + 0.013*\"car\" + '\n",
      "  '0.013*\"two\"'),\n",
      " (2,\n",
      "  '0.034*\"new\" + 0.025*\"woman\" + 0.019*\"year\" + 0.017*\"world\" + 0.016*\"plan\" + '\n",
      "  '0.016*\"state\" + 0.013*\"first\" + 0.011*\"house\" + 0.011*\"dy\" + '\n",
      "  '0.010*\"victoria\"'),\n",
      " (3,\n",
      "  '0.027*\"fire\" + 0.022*\"u\" + 0.018*\"may\" + 0.016*\"afl\" + 0.016*\"found\" + '\n",
      "  '0.015*\"help\" + 0.013*\"high\" + 0.013*\"melbourne\" + 0.013*\"find\" + '\n",
      "  '0.012*\"uk\"'),\n",
      " (4,\n",
      "  '0.043*\"sydney\" + 0.039*\"attack\" + 0.034*\"could\" + 0.033*\"court\" + '\n",
      "  '0.023*\"change\" + 0.021*\"hospital\" + 0.021*\"go\" + 0.018*\"dog\" + '\n",
      "  '0.014*\"record\" + 0.012*\"country\"'),\n",
      " (5,\n",
      "  '0.025*\"fear\" + 0.025*\"news\" + 0.025*\"end\" + 0.019*\"put\" + 0.019*\"concern\" + '\n",
      "  '0.018*\"war\" + 0.017*\"council\" + 0.017*\"sentence\" + 0.014*\"flight\" + '\n",
      "  '0.013*\"paul\"'),\n",
      " (6,\n",
      "  '0.057*\"australian\" + 0.041*\"wa\" + 0.028*\"june\" + 0.017*\"market\" + '\n",
      "  '0.015*\"election\" + 0.015*\"medium\" + 0.015*\"party\" + 0.012*\"tasmanian\" + '\n",
      "  '0.012*\"liberal\" + 0.012*\"west\"'),\n",
      " (7,\n",
      "  '0.028*\"sa\" + 0.027*\"government\" + 0.024*\"school\" + 0.022*\"win\" + '\n",
      "  '0.021*\"perth\" + 0.021*\"call\" + 0.019*\"budget\" + 0.017*\"get\" + 0.017*\"child\" '\n",
      "  '+ 0.017*\"deal\"'),\n",
      " (8,\n",
      "  '0.061*\"trump\" + 0.029*\"adelaide\" + 0.028*\"crash\" + 0.027*\"face\" + '\n",
      "  '0.027*\"london\" + 0.026*\"nt\" + 0.025*\"kill\" + 0.024*\"donald\" + '\n",
      "  '0.023*\"business\" + 0.023*\"hit\"'),\n",
      " (9,\n",
      "  '0.021*\"death\" + 0.017*\"back\" + 0.016*\"north\" + 0.015*\"community\" + '\n",
      "  '0.014*\"jail\" + 0.014*\"miss\" + 0.014*\"china\" + 0.014*\"student\" + '\n",
      "  '0.013*\"study\" + 0.012*\"john\"')]\n"
     ]
    }
   ],
   "source": [
    "# Print the Keyword in the 10 topics\n",
    "pprint(lda_model.print_topics())\n",
    "doc_lda = lda_model[corpus]"
   ]
  },
  {
   "cell_type": "markdown",
   "metadata": {},
   "source": [
    "## Coherence Score"
   ]
  },
  {
   "cell_type": "code",
   "execution_count": 30,
   "metadata": {},
   "outputs": [
    {
     "name": "stdout",
     "output_type": "stream",
     "text": [
      "\n",
      "Perplexity:  -10.096813106869256\n",
      "\n",
      "Coherence Score:  0.4989343331617513\n"
     ]
    }
   ],
   "source": [
    "# Compute Perplexity\n",
    "print('\\nPerplexity: ', lda_model.log_perplexity(corpus))  # a measure of how good the model is. lower the better.\n",
    "\n",
    "# Compute Coherence Score\n",
    "coherence_model_lda = CoherenceModel(model=lda_model, texts=data_lemmatized, dictionary=id2word, coherence='c_v')\n",
    "coherence_lda = coherence_model_lda.get_coherence()\n",
    "print('\\nCoherence Score: ', coherence_lda)"
   ]
  },
  {
   "cell_type": "markdown",
   "metadata": {},
   "source": [
    "## Visualize the topics-keywords"
   ]
  },
  {
   "cell_type": "code",
   "execution_count": 33,
   "metadata": {},
   "outputs": [
    {
     "name": "stderr",
     "output_type": "stream",
     "text": [
      "/home/ubuntu/.local/lib/python3.7/site-packages/pyLDAvis/_prepare.py:257: FutureWarning: Sorting because non-concatenation axis is not aligned. A future version\n",
      "of pandas will change to not sort by default.\n",
      "\n",
      "To accept the future behavior, pass 'sort=False'.\n",
      "\n",
      "To retain the current behavior and silence the warning, pass 'sort=True'.\n",
      "\n",
      "  return pd.concat([default_term_info] + list(topic_dfs))\n"
     ]
    },
    {
     "data": {
      "text/html": [
       "\n",
       "<link rel=\"stylesheet\" type=\"text/css\" href=\"https://cdn.rawgit.com/bmabey/pyLDAvis/files/ldavis.v1.0.0.css\">\n",
       "\n",
       "\n",
       "<div id=\"ldavis_el6891400078364626809132955590\"></div>\n",
       "<script type=\"text/javascript\">\n",
       "\n",
       "var ldavis_el6891400078364626809132955590_data = {\"mdsDat\": {\"x\": [0.3988224934099062, -0.13178023956500604, -0.07178855795583838, -0.047663708131523846, -0.020464887896482195, -0.03452996940647289, -0.03262675881118153, -0.02110703117920996, -0.016060888445325675, -0.022800452018865568], \"y\": [-0.07384022380800284, -0.37302618734347376, 0.10545311322154438, 0.1500502750402997, 0.04434784318369376, 0.05314687641676291, 0.02779523231918762, 0.026408053351365365, 0.01859455996832799, 0.021070457650294593], \"topics\": [1, 2, 3, 4, 5, 6, 7, 8, 9, 10], \"cluster\": [1, 1, 1, 1, 1, 1, 1, 1, 1, 1], \"Freq\": [14.148229598999023, 13.216246604919434, 11.71360969543457, 11.467966079711914, 10.283163070678711, 10.123476028442383, 9.204846382141113, 7.844594955444336, 6.536466598510742, 5.461399555206299]}, \"tinfo\": {\"Category\": [\"Default\", \"Default\", \"Default\", \"Default\", \"Default\", \"Default\", \"Default\", \"Default\", \"Default\", \"Default\", \"Default\", \"Default\", \"Default\", \"Default\", \"Default\", \"Default\", \"Default\", \"Default\", \"Default\", \"Default\", \"Default\", \"Default\", \"Default\", \"Default\", \"Default\", \"Default\", \"Default\", \"Default\", \"Default\", \"Default\", \"Topic1\", \"Topic1\", \"Topic1\", \"Topic1\", \"Topic1\", \"Topic1\", \"Topic1\", \"Topic1\", \"Topic1\", \"Topic1\", \"Topic1\", \"Topic1\", \"Topic1\", \"Topic1\", \"Topic1\", \"Topic1\", \"Topic1\", \"Topic1\", \"Topic1\", \"Topic1\", \"Topic1\", \"Topic1\", \"Topic1\", \"Topic1\", \"Topic1\", \"Topic1\", \"Topic1\", \"Topic1\", \"Topic1\", \"Topic1\", \"Topic2\", \"Topic2\", \"Topic2\", \"Topic2\", \"Topic2\", \"Topic2\", \"Topic2\", \"Topic2\", \"Topic2\", \"Topic2\", \"Topic2\", \"Topic2\", \"Topic2\", \"Topic2\", \"Topic2\", \"Topic2\", \"Topic2\", \"Topic2\", \"Topic2\", \"Topic2\", \"Topic2\", \"Topic2\", \"Topic2\", \"Topic2\", \"Topic2\", \"Topic2\", \"Topic2\", \"Topic2\", \"Topic2\", \"Topic2\", \"Topic2\", \"Topic3\", \"Topic3\", \"Topic3\", \"Topic3\", \"Topic3\", \"Topic3\", \"Topic3\", \"Topic3\", \"Topic3\", \"Topic3\", \"Topic3\", \"Topic3\", \"Topic3\", \"Topic3\", \"Topic3\", \"Topic3\", \"Topic3\", \"Topic3\", \"Topic3\", \"Topic3\", \"Topic3\", \"Topic3\", \"Topic3\", \"Topic3\", \"Topic3\", \"Topic3\", \"Topic3\", \"Topic3\", \"Topic3\", \"Topic3\", \"Topic4\", \"Topic4\", \"Topic4\", \"Topic4\", \"Topic4\", \"Topic4\", \"Topic4\", \"Topic4\", \"Topic4\", \"Topic4\", \"Topic4\", \"Topic4\", \"Topic4\", \"Topic4\", \"Topic4\", \"Topic4\", \"Topic4\", \"Topic4\", \"Topic4\", \"Topic4\", \"Topic4\", \"Topic4\", \"Topic4\", \"Topic4\", \"Topic4\", \"Topic4\", \"Topic4\", \"Topic4\", \"Topic4\", \"Topic4\", \"Topic4\", \"Topic5\", \"Topic5\", \"Topic5\", \"Topic5\", \"Topic5\", \"Topic5\", \"Topic5\", \"Topic5\", \"Topic5\", \"Topic5\", \"Topic5\", \"Topic5\", \"Topic5\", \"Topic5\", \"Topic5\", \"Topic5\", \"Topic5\", \"Topic5\", \"Topic5\", \"Topic5\", \"Topic5\", \"Topic5\", \"Topic5\", \"Topic5\", \"Topic5\", \"Topic5\", \"Topic5\", \"Topic5\", \"Topic5\", \"Topic5\", \"Topic6\", \"Topic6\", \"Topic6\", \"Topic6\", \"Topic6\", \"Topic6\", \"Topic6\", \"Topic6\", \"Topic6\", \"Topic6\", \"Topic6\", \"Topic6\", \"Topic6\", \"Topic6\", \"Topic6\", \"Topic6\", \"Topic6\", \"Topic6\", \"Topic6\", \"Topic6\", \"Topic6\", \"Topic6\", \"Topic6\", \"Topic6\", \"Topic6\", \"Topic6\", \"Topic6\", \"Topic6\", \"Topic6\", \"Topic6\", \"Topic6\", \"Topic7\", \"Topic7\", \"Topic7\", \"Topic7\", \"Topic7\", \"Topic7\", \"Topic7\", \"Topic7\", \"Topic7\", \"Topic7\", \"Topic7\", \"Topic7\", \"Topic7\", \"Topic7\", \"Topic7\", \"Topic7\", \"Topic7\", \"Topic7\", \"Topic7\", \"Topic7\", \"Topic7\", \"Topic7\", \"Topic7\", \"Topic7\", \"Topic7\", \"Topic7\", \"Topic7\", \"Topic7\", \"Topic7\", \"Topic7\", \"Topic8\", \"Topic8\", \"Topic8\", \"Topic8\", \"Topic8\", \"Topic8\", \"Topic8\", \"Topic8\", \"Topic8\", \"Topic8\", \"Topic8\", \"Topic8\", \"Topic8\", \"Topic8\", \"Topic8\", \"Topic8\", \"Topic8\", \"Topic8\", \"Topic8\", \"Topic8\", \"Topic8\", \"Topic8\", \"Topic8\", \"Topic8\", \"Topic8\", \"Topic8\", \"Topic8\", \"Topic8\", \"Topic8\", \"Topic8\", \"Topic9\", \"Topic9\", \"Topic9\", \"Topic9\", \"Topic9\", \"Topic9\", \"Topic9\", \"Topic9\", \"Topic9\", \"Topic9\", \"Topic9\", \"Topic9\", \"Topic9\", \"Topic9\", \"Topic9\", \"Topic9\", \"Topic9\", \"Topic9\", \"Topic9\", \"Topic9\", \"Topic9\", \"Topic9\", \"Topic9\", \"Topic9\", \"Topic9\", \"Topic9\", \"Topic9\", \"Topic9\", \"Topic9\", \"Topic9\", \"Topic10\", \"Topic10\", \"Topic10\", \"Topic10\", \"Topic10\", \"Topic10\", \"Topic10\", \"Topic10\", \"Topic10\", \"Topic10\", \"Topic10\", \"Topic10\", \"Topic10\", \"Topic10\", \"Topic10\", \"Topic10\", \"Topic10\", \"Topic10\", \"Topic10\", \"Topic10\", \"Topic10\", \"Topic10\", \"Topic10\", \"Topic10\", \"Topic10\", \"Topic10\", \"Topic10\", \"Topic10\", \"Topic10\", \"Topic10\"], \"Freq\": [839.0, 752.0, 823.0, 820.0, 571.0, 685.0, 539.0, 479.0, 491.0, 434.0, 487.0, 501.0, 466.0, 504.0, 381.0, 424.0, 446.0, 365.0, 365.0, 399.0, 420.0, 363.0, 355.0, 358.0, 393.0, 351.0, 273.0, 264.0, 312.0, 253.0, 684.8517456054688, 504.03131103515625, 392.65106201171875, 340.32598876953125, 326.03375244140625, 316.3309020996094, 269.19000244140625, 222.5915069580078, 218.16094970703125, 211.68707275390625, 209.8919219970703, 205.872802734375, 190.03504943847656, 178.1686248779297, 174.20956420898438, 168.6049346923828, 165.84866333007812, 164.71607971191406, 161.57565307617188, 159.0042724609375, 151.45550537109375, 143.9077911376953, 141.7667999267578, 139.09246826171875, 137.41177368164062, 134.33779907226562, 129.2907257080078, 124.0453872680664, 123.94715881347656, 123.1854019165039, 500.2550048828125, 419.673583984375, 330.2779235839844, 310.0110778808594, 303.32818603515625, 273.8858642578125, 243.39788818359375, 241.42933654785156, 239.8679656982422, 228.26760864257812, 225.3469696044922, 214.77389526367188, 210.13356018066406, 197.1237335205078, 183.84022521972656, 178.70266723632812, 175.82260131835938, 171.35350036621094, 167.01524353027344, 161.0946807861328, 151.80096435546875, 139.2042999267578, 135.08363342285156, 125.06166076660156, 122.16192626953125, 116.4149398803711, 115.16492462158203, 114.59273529052734, 113.67365264892578, 110.84620666503906, 162.9644775390625, 465.369384765625, 445.8255920410156, 398.6097106933594, 362.0616149902344, 357.8209228515625, 350.5235290527344, 323.2574768066406, 288.7652893066406, 284.6356506347656, 278.93109130859375, 273.6118469238281, 232.58970642089844, 232.22384643554688, 223.8112335205078, 220.4323272705078, 214.39759826660156, 197.40185546875, 195.8873748779297, 190.9815673828125, 181.0655975341797, 167.79177856445312, 165.44187927246094, 153.43307495117188, 149.21722412109375, 142.4330291748047, 132.5774383544922, 130.24473571777344, 127.87432098388672, 118.57111358642578, 118.25189971923828, 822.836181640625, 819.687255859375, 486.5792541503906, 354.6408996582031, 315.1680908203125, 284.6745910644531, 277.4713134765625, 235.83456420898438, 211.6764678955078, 209.29464721679688, 207.87930297851562, 205.98916625976562, 201.5576629638672, 192.10939025878906, 190.9537811279297, 189.25439453125, 178.60816955566406, 175.44503784179688, 159.8634796142578, 157.34432983398438, 146.9243621826172, 142.38681030273438, 132.1293182373047, 131.9702911376953, 130.5467987060547, 126.0216064453125, 116.9511947631836, 106.26741790771484, 103.43944549560547, 102.10379028320312, 111.6942138671875, 311.154296875, 243.6654052734375, 233.09396362304688, 218.1102294921875, 209.00161743164062, 203.52951049804688, 203.54507446289062, 202.45579528808594, 184.99208068847656, 181.79103088378906, 172.9015350341797, 156.3182830810547, 146.04522705078125, 143.86495971679688, 140.15689086914062, 137.82928466796875, 133.50318908691406, 129.4142608642578, 127.95805358886719, 124.57096099853516, 124.03992462158203, 123.52824401855469, 121.23030090332031, 119.84912109375, 118.78298950195312, 114.8401107788086, 114.7636947631836, 110.55238342285156, 109.41470336914062, 107.20280456542969, 838.1016845703125, 490.1055603027344, 423.66766357421875, 284.88275146484375, 259.7496643066406, 230.59527587890625, 221.59999084472656, 217.5413360595703, 188.70758056640625, 186.1593017578125, 185.44717407226562, 183.1613006591797, 181.00941467285156, 178.6447296142578, 178.3777313232422, 171.8102264404297, 168.30775451660156, 148.9889678955078, 146.09695434570312, 143.70657348632812, 141.22747802734375, 132.63204956054688, 127.87828826904297, 125.87809753417969, 124.59724426269531, 114.73516082763672, 113.99050903320312, 112.56689453125, 106.56705474853516, 101.14077758789062, 143.46151733398438, 751.8836059570312, 538.2232666015625, 364.7078552246094, 219.6366424560547, 198.74093627929688, 192.36573791503906, 190.53721618652344, 161.1597900390625, 157.14479064941406, 153.0279083251953, 151.28468322753906, 150.04147338867188, 149.73036193847656, 148.41099548339844, 143.5750274658203, 136.63323974609375, 123.12026977539062, 122.4518814086914, 115.19667053222656, 108.7458724975586, 105.39991760253906, 97.6875, 97.6452407836914, 93.1805191040039, 91.44007873535156, 88.3526611328125, 87.77422332763672, 86.72579193115234, 85.85072326660156, 79.8338623046875, 478.8921813964844, 434.02703857421875, 380.660888671875, 365.0244140625, 255.7714080810547, 240.32687377929688, 229.6592559814453, 205.2578125, 153.82769775390625, 136.42462158203125, 135.72926330566406, 117.16451263427734, 113.11685180664062, 112.73123168945312, 108.5619125366211, 102.14332580566406, 94.4241943359375, 94.3864974975586, 93.63377380371094, 92.36290740966797, 90.9115982055664, 89.81196594238281, 89.74118041992188, 83.58180236816406, 81.29647064208984, 81.07626342773438, 81.01751708984375, 78.95001220703125, 78.81493377685547, 76.99757385253906, 570.9900512695312, 272.3851318359375, 263.0643005371094, 252.49310302734375, 251.44705200195312, 241.47789001464844, 237.56146240234375, 221.18994140625, 213.67747497558594, 212.68138122558594, 174.25564575195312, 164.4466094970703, 131.62937927246094, 128.93438720703125, 107.85230255126953, 103.30840301513672, 99.8358383178711, 97.28597259521484, 96.28492736816406, 93.47078704833984, 79.63645935058594, 75.48667907714844, 74.35839080810547, 73.69808959960938, 67.36395263671875, 62.109039306640625, 61.2159423828125, 59.81955337524414, 59.8315315246582, 58.576229095458984, 193.0899200439453, 191.8398895263672, 191.47454833984375, 149.4937286376953, 144.27647399902344, 137.29592895507812, 131.59132385253906, 130.1383056640625, 109.83506774902344, 102.23158264160156, 101.1192398071289, 95.53311157226562, 94.21772003173828, 90.16867065429688, 86.5347671508789, 85.24192810058594, 84.40062713623047, 79.93388366699219, 79.60765075683594, 78.55364990234375, 77.50242614746094, 75.69682312011719, 74.97288513183594, 71.44713592529297, 71.11882019042969, 68.97093200683594, 66.73956298828125, 62.86526107788086, 59.626930236816406, 58.24911117553711], \"Term\": [\"australia\", \"australian\", \"say\", \"police\", \"trump\", \"new\", \"wa\", \"sydney\", \"charge\", \"attack\", \"man\", \"fire\", \"sa\", \"woman\", \"could\", \"nsw\", \"government\", \"court\", \"june\", \"school\", \"u\", \"win\", \"take\", \"perth\", \"year\", \"call\", \"adelaide\", \"crash\", \"death\", \"face\", \"new\", \"woman\", \"year\", \"world\", \"plan\", \"state\", \"first\", \"house\", \"dy\", \"victoria\", \"coast\", \"origin\", \"share\", \"arrest\", \"socceroos\", \"white\", \"set\", \"water\", \"guilty\", \"see\", \"labor\", \"turn\", \"start\", \"darwin\", \"victorian\", \"return\", \"target\", \"fall\", \"men\", \"bali\", \"fire\", \"u\", \"may\", \"afl\", \"found\", \"help\", \"high\", \"melbourne\", \"find\", \"uk\", \"make\", \"tower\", \"family\", \"home\", \"life\", \"old\", \"open\", \"fight\", \"price\", \"risk\", \"james\", \"town\", \"nrl\", \"wall\", \"program\", \"winter\", \"city\", \"use\", \"kid\", \"food\", \"grenfell\", \"sa\", \"government\", \"school\", \"win\", \"perth\", \"call\", \"budget\", \"get\", \"child\", \"deal\", \"ban\", \"power\", \"trial\", \"pay\", \"sex\", \"brisbane\", \"abuse\", \"lead\", \"farmer\", \"drum\", \"funding\", \"big\", \"violence\", \"green\", \"mine\", \"hanson\", \"pauline\", \"law\", \"energy\", \"strike\", \"say\", \"police\", \"man\", \"take\", \"cup\", \"queensland\", \"show\", \"rise\", \"car\", \"two\", \"one\", \"dead\", \"assault\", \"drug\", \"bill\", \"force\", \"health\", \"victim\", \"turnbull\", \"week\", \"interview\", \"driver\", \"data\", \"murray\", \"mayor\", \"pm\", \"review\", \"girl\", \"vote\", \"bid\", \"census\", \"death\", \"back\", \"north\", \"community\", \"jail\", \"china\", \"miss\", \"student\", \"study\", \"john\", \"final\", \"qld\", \"service\", \"island\", \"cause\", \"inquest\", \"push\", \"cut\", \"plane\", \"politics\", \"accuse\", \"art\", \"korea\", \"queen\", \"suicide\", \"sign\", \"michael\", \"prison\", \"age\", \"work\", \"australia\", \"charge\", \"nsw\", \"report\", \"murder\", \"south\", \"bank\", \"test\", \"scorecentre\", \"canberra\", \"allege\", \"people\", \"george\", \"former\", \"indigenous\", \"cricket\", \"day\", \"comment\", \"abbott\", \"head\", \"tony\", \"question\", \"look\", \"need\", \"fatal\", \"travel\", \"northern\", \"live\", \"future\", \"david\", \"pell\", \"australian\", \"wa\", \"june\", \"market\", \"election\", \"medium\", \"party\", \"tasmanian\", \"liberal\", \"west\", \"tasmania\", \"national\", \"aboriginal\", \"fake\", \"street\", \"expert\", \"young\", \"job\", \"game\", \"road\", \"company\", \"levy\", \"reveals\", \"group\", \"free\", \"know\", \"ground\", \"stop\", \"light\", \"criticise\", \"sydney\", \"attack\", \"could\", \"court\", \"change\", \"hospital\", \"go\", \"dog\", \"record\", \"country\", \"lose\", \"climate\", \"boy\", \"senate\", \"safety\", \"industry\", \"seek\", \"terror\", \"injury\", \"teen\", \"station\", \"close\", \"penalty\", \"rock\", \"grow\", \"decision\", \"local\", \"education\", \"draw\", \"moment\", \"trump\", \"adelaide\", \"crash\", \"face\", \"london\", \"nt\", \"kill\", \"donald\", \"business\", \"hit\", \"park\", \"rate\", \"tax\", \"support\", \"run\", \"want\", \"beat\", \"body\", \"philippine\", \"america\", \"aussie\", \"dollar\", \"denies\", \"tweet\", \"scene\", \"bomb\", \"lawyer\", \"director\", \"executive\", \"outback\", \"fear\", \"news\", \"end\", \"put\", \"concern\", \"war\", \"council\", \"sentence\", \"flight\", \"paul\", \"building\", \"abc\", \"worker\", \"chinese\", \"post\", \"leave\", \"security\", \"apartment\", \"member\", \"appeal\", \"still\", \"raise\", \"delay\", \"bridge\", \"jeff\", \"quiz\", \"union\", \"grant\", \"speaks\", \"govt\"], \"Total\": [839.0, 752.0, 823.0, 820.0, 571.0, 685.0, 539.0, 479.0, 491.0, 434.0, 487.0, 501.0, 466.0, 504.0, 381.0, 424.0, 446.0, 365.0, 365.0, 399.0, 420.0, 363.0, 355.0, 358.0, 393.0, 351.0, 273.0, 264.0, 312.0, 253.0, 685.8086547851562, 504.9882507324219, 393.6080322265625, 341.282958984375, 326.99072265625, 317.28778076171875, 270.14697265625, 223.54844665527344, 219.11790466308594, 212.6440887451172, 210.84889221191406, 206.8296661376953, 190.9920196533203, 179.12559509277344, 175.16766357421875, 169.56207275390625, 166.80560302734375, 165.6730499267578, 162.53257751464844, 159.96128845214844, 152.41246032714844, 144.86471557617188, 142.7238311767578, 140.04940795898438, 138.36874389648438, 135.2947540283203, 130.24769592285156, 125.00233459472656, 124.904052734375, 124.14244842529297, 501.2121887207031, 420.6307373046875, 331.2349853515625, 310.96826171875, 304.285400390625, 274.8429870605469, 244.35511779785156, 242.38644409179688, 240.82516479492188, 229.22483825683594, 226.3041534423828, 215.74085998535156, 211.09071350097656, 198.08084106445312, 184.79737854003906, 179.6598358154297, 176.77967834472656, 172.31065368652344, 167.972412109375, 162.05186462402344, 152.7581024169922, 140.1614990234375, 136.0407257080078, 126.01879119873047, 123.11905670166016, 117.37395477294922, 116.12205505371094, 115.54991149902344, 114.63079833984375, 111.80330657958984, 164.69549560546875, 466.3278503417969, 446.78399658203125, 399.56817626953125, 363.02008056640625, 358.7793884277344, 351.48193359375, 324.21588134765625, 289.7237243652344, 285.5940856933594, 279.88958740234375, 274.57037353515625, 233.54812622070312, 233.18234252929688, 224.76971435546875, 221.3908233642578, 215.35601806640625, 198.36033630371094, 196.84588623046875, 191.9401092529297, 182.02407836914062, 168.75018310546875, 166.40025329589844, 154.39154052734375, 150.1757354736328, 143.39149475097656, 133.53594970703125, 131.20327758789062, 128.8326873779297, 119.52949523925781, 119.21036529541016, 823.7984619140625, 820.6495361328125, 487.5415344238281, 355.6032409667969, 316.1305236816406, 285.63690185546875, 278.43359375, 236.79690551757812, 212.63877868652344, 210.25698852539062, 208.84158325195312, 206.9514617919922, 202.52003479003906, 193.07174682617188, 191.9161376953125, 190.21676635742188, 179.57046508789062, 176.4073486328125, 160.82586669921875, 158.306640625, 147.8866729736328, 143.34910583496094, 133.09185791015625, 132.9327392578125, 131.50921630859375, 126.98394012451172, 117.91345977783203, 107.22981262207031, 104.40190887451172, 103.06610870361328, 112.75463104248047, 312.10870361328125, 244.619873046875, 234.04830932617188, 219.0646514892578, 209.9560546875, 204.48388671875, 204.49952697753906, 203.41024780273438, 185.94654846191406, 182.7454376220703, 173.85597229003906, 157.27268981933594, 146.99966430664062, 144.81936645507812, 141.11141967773438, 138.78370666503906, 134.4576416015625, 130.36871337890625, 128.9125518798828, 125.52539825439453, 124.99439239501953, 124.482666015625, 122.18463134765625, 120.80493927001953, 119.73748016357422, 115.79460144042969, 115.71820068359375, 111.50682067871094, 110.3691635131836, 108.15717315673828, 839.0670166015625, 491.0709228515625, 424.63299560546875, 285.8481140136719, 260.7149963378906, 231.56063842773438, 222.5653839111328, 218.50674438476562, 189.67291259765625, 187.12461853027344, 186.41258239746094, 184.12664794921875, 181.9751434326172, 179.6100616455078, 179.3430938720703, 172.7756805419922, 169.27308654785156, 149.95457458496094, 147.0625762939453, 144.67198181152344, 142.19302368164062, 133.59742736816406, 128.84368896484375, 126.84341430664062, 125.56279754638672, 115.70069885253906, 114.95592498779297, 113.53218841552734, 107.53242492675781, 102.1061782836914, 147.19602966308594, 752.8467407226562, 539.186279296875, 365.67181396484375, 220.5996856689453, 199.70388793945312, 193.3288116455078, 191.50027465820312, 162.1227569580078, 158.10791015625, 153.99093627929688, 152.24774169921875, 151.00453186035156, 150.69342041015625, 149.3742218017578, 144.53802490234375, 137.59632873535156, 124.08330535888672, 123.4148941040039, 116.15965270996094, 109.70893096923828, 106.36296844482422, 98.650634765625, 98.60834503173828, 94.14353942871094, 92.40314483642578, 89.31570434570312, 88.73755645751953, 87.68878173828125, 86.8137435913086, 80.79711151123047, 479.8523254394531, 434.98712158203125, 381.6210632324219, 365.9845275878906, 256.73150634765625, 241.2869873046875, 230.61940002441406, 206.2179412841797, 154.78787231445312, 137.38470458984375, 136.68942260742188, 118.12461853027344, 114.07703399658203, 113.69137573242188, 109.52220916748047, 103.10345458984375, 95.38428497314453, 95.34654998779297, 94.59403991699219, 93.322998046875, 91.87166595458984, 90.77217102050781, 90.70149993896484, 84.54186248779297, 82.25666046142578, 82.03630065917969, 81.97765350341797, 79.91018676757812, 79.7752914428711, 77.95789337158203, 571.9551391601562, 273.3503112792969, 264.0295715332031, 253.4582977294922, 252.41229248046875, 242.44308471679688, 238.52659606933594, 222.15501403808594, 214.6426544189453, 213.6466064453125, 175.2208709716797, 165.4118194580078, 132.5946044921875, 129.8996124267578, 108.81752014160156, 104.27352905273438, 100.8010482788086, 98.2511215209961, 97.25016784667969, 94.43621826171875, 80.60169982910156, 76.4518051147461, 75.32369232177734, 74.66415405273438, 68.32913208007812, 63.07420349121094, 62.18116760253906, 60.78470993041992, 60.806541442871094, 59.541351318359375, 194.05975341796875, 192.80963134765625, 192.44435119628906, 150.46353149414062, 145.2461700439453, 138.26559448242188, 132.56109619140625, 131.10801696777344, 110.80476379394531, 103.20140838623047, 102.0889663696289, 96.50275421142578, 95.18744659423828, 91.13841247558594, 87.50472259521484, 86.21167755126953, 85.37031555175781, 80.9036636352539, 80.57740783691406, 79.52336883544922, 78.47208404541016, 76.66656494140625, 75.9427719116211, 72.41728210449219, 72.08880615234375, 69.94056701660156, 67.7093276977539, 63.83492660522461, 60.59670639038086, 59.21882247924805], \"loglift\": [30.0, 29.0, 28.0, 27.0, 26.0, 25.0, 24.0, 23.0, 22.0, 21.0, 20.0, 19.0, 18.0, 17.0, 16.0, 15.0, 14.0, 13.0, 12.0, 11.0, 10.0, 9.0, 8.0, 7.0, 6.0, 5.0, 4.0, 3.0, 2.0, 1.0, 1.954200029373169, 1.9536999464035034, 1.9530999660491943, 1.9528000354766846, 1.9526000022888184, 1.9526000022888184, 1.9520000219345093, 1.951300024986267, 1.951200008392334, 1.9510999917984009, 1.9509999752044678, 1.9508999586105347, 1.950600028038025, 1.9501999616622925, 1.9500999450683594, 1.9499000310897827, 1.9498000144958496, 1.9498000144958496, 1.9496999979019165, 1.9495999813079834, 1.9493000507354736, 1.9490000009536743, 1.9488999843597412, 1.948699951171875, 1.9486000537872314, 1.9485000371932983, 1.948199987411499, 1.9479000568389893, 1.9479000568389893, 1.9478000402450562, 2.0218000411987305, 2.021399974822998, 2.0208001136779785, 2.0206000804901123, 2.0206000804901123, 2.02020001411438, 2.0197999477386475, 2.0197999477386475, 2.019700050354004, 2.0195000171661377, 2.0195000171661377, 2.019200086593628, 2.019200086593628, 2.018899917602539, 2.0185000896453857, 2.018399953842163, 2.0183000564575195, 2.018199920654297, 2.0179998874664307, 2.0178000926971436, 2.017400026321411, 2.016900062561035, 2.016700029373169, 2.0160999298095703, 2.015899896621704, 2.015500068664551, 2.015399932861328, 2.015399932861328, 2.0153000354766846, 2.0151000022888184, 2.013200044631958, 2.142400026321411, 2.1422998905181885, 2.1419999599456787, 2.1417999267578125, 2.141700029373169, 2.141700029373169, 2.1414999961853027, 2.1410999298095703, 2.1410999298095703, 2.1410000324249268, 2.140899896621704, 2.1403000354766846, 2.1403000354766846, 2.1401000022888184, 2.1401000022888184, 2.140000104904175, 2.1396000385284424, 2.1394999027252197, 2.139400005340576, 2.1391000747680664, 2.138700008392334, 2.1386001110076904, 2.138200044631958, 2.138000011444092, 2.137700080871582, 2.137200117111206, 2.1370999813079834, 2.13700008392334, 2.136399984359741, 2.1363000869750977, 2.164400100708008, 2.164400100708008, 2.163599967956543, 2.162899971008301, 2.162600040435791, 2.1621999740600586, 2.1621999740600586, 2.1614999771118164, 2.161099910736084, 2.1610000133514404, 2.1610000133514404, 2.1610000133514404, 2.160799980163574, 2.160599946975708, 2.160599946975708, 2.1605000495910645, 2.1602001190185547, 2.160099983215332, 2.159600019454956, 2.1594998836517334, 2.15910005569458, 2.158900022506714, 2.158400058746338, 2.1582999229431152, 2.1582999229431152, 2.1579999923706055, 2.157399892807007, 2.156599998474121, 2.156399965286255, 2.1561999320983887, 2.1561999320983887, 2.2716000080108643, 2.2708001136779785, 2.2706000804901123, 2.2702999114990234, 2.2701001167297363, 2.2699999809265137, 2.2699999809265137, 2.2699999809265137, 2.2695000171661377, 2.269399881362915, 2.269200086593628, 2.2685999870300293, 2.2681000232696533, 2.2681000232696533, 2.267899990081787, 2.2678000926971436, 2.2674999237060547, 2.2672998905181885, 2.267199993133545, 2.2669999599456787, 2.2669999599456787, 2.2669999599456787, 2.2667999267578125, 2.266700029373169, 2.266700029373169, 2.266400098800659, 2.266400098800659, 2.2660999298095703, 2.2660000324249268, 2.2657999992370605, 2.2892000675201416, 2.288300037384033, 2.2880001068115234, 2.286900043487549, 2.286600112915039, 2.286099910736084, 2.2860000133514404, 2.285900115966797, 2.2852001190185547, 2.285099983215332, 2.285099983215332, 2.285099983215332, 2.2850000858306885, 2.284899950027466, 2.284899950027466, 2.2846999168395996, 2.284600019454956, 2.283900022506714, 2.2836999893188477, 2.283600091934204, 2.2834999561309814, 2.283099889755249, 2.2827999591827393, 2.2827000617980957, 2.282599925994873, 2.281899929046631, 2.281899929046631, 2.2818000316619873, 2.2813000679016113, 2.2808001041412354, 2.2646000385284424, 2.384200096130371, 2.383699893951416, 2.3828001022338867, 2.3810999393463135, 2.3805999755859375, 2.3803999423980713, 2.3803999423980713, 2.379499912261963, 2.379300117492676, 2.379199981689453, 2.3791000843048096, 2.378999948501587, 2.378999948501587, 2.378999948501587, 2.3787999153137207, 2.3784000873565674, 2.3775999546051025, 2.3775999546051025, 2.3770999908447266, 2.3766000270843506, 2.376300096511841, 2.3756000995635986, 2.3756000995635986, 2.375200033187866, 2.375, 2.3745999336242676, 2.374500036239624, 2.3743999004364014, 2.374300003051758, 2.3733999729156494, 2.543299913406372, 2.543100118637085, 2.542799949645996, 2.5427000522613525, 2.541599988937378, 2.5413999557495117, 2.5411999225616455, 2.5406999588012695, 2.539099931716919, 2.538300037384033, 2.538300037384033, 2.5371999740600586, 2.536900043487549, 2.536900043487549, 2.5364999771118164, 2.5360000133514404, 2.5352001190185547, 2.5352001190185547, 2.535099983215332, 2.5350000858306885, 2.5348000526428223, 2.5346999168395996, 2.5346999168395996, 2.533900022506714, 2.533600091934204, 2.533600091934204, 2.533600091934204, 2.5332999229431152, 2.5332000255584717, 2.5329999923706055, 2.726099967956543, 2.7242000102996826, 2.724100112915039, 2.7239999771118164, 2.723900079727173, 2.72379994392395, 2.7237000465393066, 2.723400115966797, 2.723299980163574, 2.7232000827789307, 2.7221999168395996, 2.72189998626709, 2.7204999923706055, 2.7202999591827393, 2.718899965286255, 2.7184998989105225, 2.7181999683380127, 2.717900037765503, 2.7177999019622803, 2.7174999713897705, 2.7156999111175537, 2.715100049972534, 2.714900016784668, 2.7147998809814453, 2.7135000228881836, 2.712399959564209, 2.712100028991699, 2.7118000984191895, 2.7116000652313232, 2.711400032043457, 2.9024999141693115, 2.902400016784668, 2.902400016784668, 2.9010000228881836, 2.9007999897003174, 2.900399923324585, 2.900099992752075, 2.9000000953674316, 2.898699998855591, 2.8980000019073486, 2.897900104522705, 2.89739990234375, 2.897200107574463, 2.8968000411987305, 2.8963000774383545, 2.896199941635132, 2.8959999084472656, 2.895400047302246, 2.895400047302246, 2.89520001411438, 2.8949999809265137, 2.894700050354004, 2.8945999145507812, 2.8940000534057617, 2.893899917602539, 2.8935000896453857, 2.8929998874664307, 2.892199993133545, 2.8912999629974365, 2.8910000324249268], \"logprob\": [30.0, 29.0, 28.0, 27.0, 26.0, 25.0, 24.0, 23.0, 22.0, 21.0, 20.0, 19.0, 18.0, 17.0, 16.0, 15.0, 14.0, 13.0, 12.0, 11.0, 10.0, 9.0, 8.0, 7.0, 6.0, 5.0, 4.0, 3.0, 2.0, 1.0, -3.383699893951416, -3.6902999877929688, -3.940000057220459, -4.083000183105469, -4.125899791717529, -4.156099796295166, -4.317500114440918, -4.507599830627441, -4.527699947357178, -4.557799816131592, -4.566299915313721, -4.585599899291992, -4.6656999588012695, -4.730199813842773, -4.752600193023682, -4.785299777984619, -4.801799774169922, -4.808700084686279, -4.827899932861328, -4.843999862670898, -4.892600059509277, -4.943699836730957, -4.958700180053711, -4.977799892425537, -4.9899001121521, -5.012499809265137, -5.05079984664917, -5.092299938201904, -5.0929999351501465, -5.0991997718811035, -3.6296000480651855, -3.805299997329712, -4.0447998046875, -4.108099937438965, -4.129899978637695, -4.23199987411499, -4.350100040435791, -4.3582000732421875, -4.364699840545654, -4.4141998291015625, -4.42710018157959, -4.475200176239014, -4.497000217437744, -4.5609002113342285, -4.63070011138916, -4.658999919891357, -4.675300121307373, -4.701000213623047, -4.7266998291015625, -4.762800216674805, -4.822199821472168, -4.90880012512207, -4.938899993896484, -5.015900135040283, -5.039400100708008, -5.087600231170654, -5.098400115966797, -5.103400230407715, -5.111400127410889, -5.136600017547607, -4.751200199127197, -3.581199884414673, -3.6240999698638916, -3.7360999584198, -3.832200050354004, -3.8440001010894775, -3.8645999431610107, -3.9456000328063965, -4.0584001541137695, -4.07289981842041, -4.093100070953369, -4.112400054931641, -4.274799823760986, -4.276400089263916, -4.313300132751465, -4.328499794006348, -4.356200218200684, -4.438799858093262, -4.446499824523926, -4.47189998626709, -4.525199890136719, -4.60129976272583, -4.6153998374938965, -4.690800189971924, -4.718699932098389, -4.765200138092041, -4.836900234222412, -4.854599952697754, -4.873000144958496, -4.948500156402588, -4.951200008392334, -2.9900999069213867, -2.9939000606536865, -3.515500068664551, -3.8317999839782715, -3.9498000144958496, -4.051499843597412, -4.077099800109863, -4.239699840545654, -4.347799777984619, -4.359099864959717, -4.365900039672852, -4.375, -4.3968000411987305, -4.444799900054932, -4.450799942016602, -4.459799766540527, -4.5177001953125, -4.5355000495910645, -4.628499984741211, -4.644400119781494, -4.712900161743164, -4.74429988861084, -4.8190999031066895, -4.820300102233887, -4.831099987030029, -4.866399765014648, -4.941100120544434, -5.036900043487549, -5.063899993896484, -5.076900005340576, -4.987100124359131, -3.8534998893737793, -4.0980000495910645, -4.142399787902832, -4.208799839019775, -4.251500129699707, -4.2779998779296875, -4.277900218963623, -4.283299922943115, -4.373499870300293, -4.390999794006348, -4.441100120544434, -4.541900157928467, -4.609899997711182, -4.624899864196777, -4.651100158691406, -4.667799949645996, -4.699699878692627, -4.730800151824951, -4.742099761962891, -4.768899917602539, -4.773200035095215, -4.777299880981445, -4.79610013961792, -4.807600021362305, -4.816500186920166, -4.850299835205078, -4.850900173187256, -4.888299942016602, -4.89870023727417, -4.919099807739258, -2.8469998836517334, -3.383500099182129, -3.5292000770568848, -3.926100015640259, -4.018400192260742, -4.137499809265137, -4.177299976348877, -4.195799827575684, -4.3379998207092285, -4.351600170135498, -4.355400085449219, -4.367800235748291, -4.3796000480651855, -4.3927998542785645, -4.3942999839782715, -4.43179988861084, -4.452400207519531, -4.5742998123168945, -4.593900203704834, -4.610400199890137, -4.627799987792969, -4.6905999183654785, -4.727099895477295, -4.7428998947143555, -4.7530999183654785, -4.8354997634887695, -4.842100143432617, -4.854599952697754, -4.90939998626709, -4.961699962615967, -4.612100124359131, -2.8605000972747803, -3.1947999000549316, -3.583899974822998, -4.091100215911865, -4.190999984741211, -4.223599910736084, -4.2332000732421875, -4.400599956512451, -4.425899982452393, -4.452400207519531, -4.463900089263916, -4.472099781036377, -4.4741997718811035, -4.483099937438965, -4.516200065612793, -4.565700054168701, -4.669899940490723, -4.675300121307373, -4.736400127410889, -4.794000148773193, -4.825300216674805, -4.901299953460693, -4.901700019836426, -4.948500156402588, -4.967400074005127, -5.001699924468994, -5.008299827575684, -5.020299911499023, -5.030399799346924, -5.103099822998047, -3.151700019836426, -3.25, -3.381200075149536, -3.4231998920440674, -3.7788000106811523, -3.841099977493286, -3.8864998817443848, -3.9988999366760254, -4.287300109863281, -4.407400131225586, -4.412499904632568, -4.559599876403809, -4.594699859619141, -4.598100185394287, -4.635799884796143, -4.696800231933594, -4.775300025939941, -4.775700092315674, -4.783699989318848, -4.797399997711182, -4.813199996948242, -4.825399875640869, -4.826200008392334, -4.897299766540527, -4.925000190734863, -4.927700042724609, -4.928500175476074, -4.9542999267578125, -4.955999851226807, -4.979400157928467, -2.793299913406372, -3.5334999561309814, -3.5683000087738037, -3.609299898147583, -3.6135001182556152, -3.653899908065796, -3.670300006866455, -3.7416999340057373, -3.77620005607605, -3.780900001525879, -3.9802000522613525, -4.038099765777588, -4.260700225830078, -4.281400203704834, -4.45989990234375, -4.502999782562256, -4.537199974060059, -4.5630998611450195, -4.573400020599365, -4.603099822998047, -4.763199806213379, -4.816800117492676, -4.8317999839782715, -4.840700149536133, -4.930600166320801, -5.0117998123168945, -5.026299953460693, -5.0493998527526855, -5.049200057983398, -5.070400238037109, -3.6979000568389893, -3.704400062561035, -3.7063000202178955, -3.9537999629974365, -3.989300012588501, -4.038899898529053, -4.081299781799316, -4.092400074005127, -4.26200008392334, -4.333799839019775, -4.344699859619141, -4.401500225067139, -4.41540002822876, -4.4593000411987305, -4.500500202178955, -4.515500068664551, -4.525400161743164, -4.579800128936768, -4.583899974822998, -4.5971999168396, -4.6107001304626465, -4.634300231933594, -4.643899917602539, -4.6921000480651855, -4.696700096130371, -4.72730016708374, -4.760200023651123, -4.820000171661377, -4.872900009155273, -4.896299839019775]}, \"token.table\": {\"Topic\": [6, 10, 7, 3, 5, 9, 2, 5, 6, 9, 10, 10, 1, 5, 4, 8, 9, 6, 7, 5, 1, 3, 6, 9, 4, 3, 4, 9, 9, 8, 10, 3, 3, 10, 9, 3, 6, 4, 5, 4, 8, 6, 3, 5, 10, 2, 8, 8, 1, 6, 5, 7, 10, 8, 10, 8, 8, 9, 6, 7, 4, 5, 1, 4, 6, 6, 4, 3, 5, 8, 10, 9, 9, 8, 9, 9, 8, 4, 4, 3, 1, 8, 7, 10, 3, 9, 7, 9, 7, 1, 2, 3, 6, 10, 2, 5, 2, 2, 1, 10, 2, 4, 6, 2, 7, 3, 6, 7, 6, 3, 4, 8, 3, 10, 10, 3, 2, 7, 7, 8, 1, 3, 6, 4, 2, 2, 9, 2, 8, 1, 6, 8, 8, 5, 4, 5, 5, 2, 10, 7, 5, 7, 2, 9, 7, 5, 1, 3, 9, 3, 10, 7, 7, 2, 7, 6, 8, 9, 6, 8, 2, 4, 7, 2, 4, 7, 2, 10, 1, 5, 3, 5, 8, 6, 4, 7, 6, 1, 10, 5, 6, 2, 6, 9, 2, 4, 2, 1, 9, 9, 7, 10, 3, 3, 2, 6, 8, 6, 3, 9, 1, 5, 4, 4, 5, 10, 3, 2, 5, 2, 5, 10, 5, 5, 4, 6, 10, 10, 9, 8, 6, 1, 7, 4, 4, 2, 7, 8, 9, 3, 8, 4, 9, 3, 6, 10, 1, 8, 8, 10, 5, 1, 3, 1, 4, 5, 1, 6, 10, 1, 1, 8, 10, 7, 7, 3, 5, 5, 5, 9, 8, 4, 1, 7, 7, 9, 8, 8, 6, 6, 2, 2, 6, 3, 9, 1, 4, 9, 4, 2, 2, 10, 2, 4, 1, 1, 3, 4, 7, 2, 9, 10, 1, 4, 7, 1, 3, 2, 1, 5, 10, 1, 1, 7], \"Freq\": [0.9927746653556824, 0.994790256023407, 0.9953984618186951, 0.9931420683860779, 0.9920445084571838, 0.99506014585495, 0.9968863129615784, 0.9875946640968323, 0.9924222826957703, 0.98479163646698, 0.9888303875923157, 0.9934186935424805, 0.9937161803245544, 0.9961225986480713, 0.9974321722984314, 0.9977306723594666, 0.992534875869751, 0.998728334903717, 0.9988752603530884, 0.997465968132019, 0.9907972812652588, 0.9979226589202881, 0.9974597096443176, 0.9920531511306763, 0.9896560907363892, 0.9915850162506104, 0.9952263832092285, 0.9872660636901855, 0.9829692244529724, 0.9905586838722229, 0.98042893409729, 0.9937033653259277, 0.996249794960022, 0.9893331527709961, 0.9970059394836426, 0.9986288547515869, 0.9939900040626526, 0.9969959259033203, 0.9921238422393799, 0.9933072924613953, 0.997150719165802, 0.997819185256958, 0.9979197978973389, 0.9976336359977722, 0.9875089526176453, 0.9903372526168823, 0.9904794096946716, 0.991493284702301, 0.9959739446640015, 0.9936342239379883, 0.995140016078949, 0.9871856570243835, 0.9914202690124512, 0.9983725547790527, 0.9957672357559204, 0.989920973777771, 0.9973099231719971, 0.9961005449295044, 0.995510458946228, 0.9901344180107117, 0.9964239001274109, 0.9895012378692627, 0.9925068616867065, 0.9917961955070496, 0.9891663789749146, 0.9924790859222412, 0.9954025149345398, 0.9968216419219971, 0.9964476823806763, 0.9873678088188171, 0.9875857830047607, 0.982426643371582, 0.9870903491973877, 0.9940938949584961, 0.9810101985931396, 0.994800865650177, 0.9902815818786621, 0.9905886650085449, 0.9944489598274231, 0.9943739175796509, 0.9948981404304504, 0.9886098504066467, 0.996475338935852, 0.9924947023391724, 0.995570182800293, 0.9867359399795532, 0.9956660866737366, 0.9942464232444763, 0.990800142288208, 0.9919814467430115, 0.9948329925537109, 0.995102047920227, 0.9955177903175354, 0.9945390224456787, 0.9923936724662781, 0.9950765371322632, 0.9965735673904419, 0.9975814819335938, 0.9957542419433594, 0.9927371144294739, 0.9928150177001953, 0.9936032891273499, 0.9966034293174744, 0.9957756996154785, 0.9848149418830872, 0.9955544471740723, 0.9950487017631531, 0.990016758441925, 0.9946413636207581, 0.9975020289421082, 0.9885310530662537, 0.9973142147064209, 0.9982452392578125, 0.9794183373451233, 0.9869205355644226, 0.9921709299087524, 0.9897052645683289, 0.9916883111000061, 0.9878532290458679, 0.9847226738929749, 0.9967232346534729, 0.9959864616394043, 0.9953551292419434, 0.9968231916427612, 0.996932864189148, 0.9944543242454529, 0.99697345495224, 0.9945434331893921, 0.9946661591529846, 0.9975466132164001, 0.9925110340118408, 0.9892975687980652, 0.9937201142311096, 0.9943530559539795, 0.9940043687820435, 0.9943421483039856, 0.9954463839530945, 0.9950372576713562, 0.9848963022232056, 0.988535463809967, 0.9959208965301514, 0.9981628060340881, 0.9944971203804016, 0.9977923035621643, 0.9852690696716309, 0.9903045892715454, 0.9907326698303223, 0.993536651134491, 0.9810044169425964, 0.9957028031349182, 0.9859453439712524, 0.9934046864509583, 0.9929926991462708, 0.9956851005554199, 0.9906265735626221, 0.9953124523162842, 0.9880741238594055, 0.9944047927856445, 0.9934518337249756, 0.9949562549591064, 0.9942371845245361, 0.9988892674446106, 0.997281551361084, 0.996271550655365, 0.9961279034614563, 0.9931266903877258, 0.9942800402641296, 0.9928341507911682, 0.99276202917099, 0.9937935471534729, 0.9902958273887634, 0.9975573420524597, 0.9877126812934875, 0.9972575306892395, 0.9929834008216858, 0.9933476448059082, 0.9933507442474365, 0.9988209009170532, 0.9958008527755737, 0.9955209493637085, 0.9916844367980957, 0.9923499226570129, 0.9985092878341675, 0.9940477609634399, 0.99632728099823, 0.9959702491760254, 0.995589554309845, 0.995988667011261, 0.9909079670906067, 0.9930323958396912, 0.9973875880241394, 0.9883586168289185, 0.9908289313316345, 0.9965755343437195, 0.013587323017418385, 0.9714936017990112, 0.9922658205032349, 0.993881106376648, 0.9978276491165161, 0.9871448278427124, 0.9969701766967773, 0.9929211735725403, 0.992251455783844, 0.9992085099220276, 0.9958143830299377, 0.9942320585250854, 0.997653067111969, 0.9942108988761902, 0.9954547882080078, 0.9909107685089111, 0.9965963959693909, 0.9902731776237488, 0.9919077754020691, 0.9933368563652039, 0.9977702498435974, 0.9955281615257263, 0.9865518808364868, 0.9913056492805481, 0.9914647936820984, 0.9949100017547607, 0.9970329999923706, 0.9904301166534424, 0.993830680847168, 0.9922531247138977, 0.9966346621513367, 0.9935091137886047, 0.9935380816459656, 0.9935905933380127, 0.9924872517585754, 0.99715256690979, 0.9952319264411926, 0.9990307688713074, 0.980548083782196, 0.9985780119895935, 0.996452271938324, 0.9839485883712769, 0.9939904808998108, 0.9854872822761536, 0.9939188361167908, 0.9915488362312317, 0.9931995272636414, 0.9951704144477844, 0.9937177896499634, 0.9948059916496277, 0.9948512315750122, 0.9931378364562988, 0.9933339953422546, 0.9975788593292236, 0.9901528358459473, 0.9949284195899963, 0.9959412813186646, 0.9905121326446533, 0.993984043598175, 0.9921451807022095, 0.9962776303291321, 0.9898468255996704, 0.9930669665336609, 0.9949095845222473, 0.9938408732414246, 0.9930745363235474, 0.9982237815856934, 0.9983035922050476, 0.9904205799102783, 0.9918045401573181, 0.9930746555328369, 0.9955156445503235, 0.9858234524726868, 0.9858773350715637, 0.9976809024810791, 0.9916098117828369, 0.9965659976005554, 0.9917131662368774, 0.9939438700675964, 0.9949295520782471, 0.9983300566673279, 0.9940308928489685, 0.994864821434021, 0.991104781627655, 0.9940216541290283, 0.9985005259513855, 0.9946566224098206, 0.9895239472389221, 0.9952409267425537, 0.9920221567153931, 0.996971070766449, 0.9901080131530762, 0.9909869432449341, 0.9865720272064209, 0.9977998733520508, 0.9919155836105347, 0.9877866506576538, 0.9908466339111328, 0.9959374666213989, 0.9917461276054382, 0.9935649633407593, 0.9966851472854614, 0.997189998626709, 0.9882941842079163, 0.9980430006980896, 0.9893010258674622, 0.9875251650810242, 0.9962407946586609, 0.9984552264213562, 0.9912695288658142], \"Term\": [\"abbott\", \"abc\", \"aboriginal\", \"abuse\", \"accuse\", \"adelaide\", \"afl\", \"age\", \"allege\", \"america\", \"apartment\", \"appeal\", \"arrest\", \"art\", \"assault\", \"attack\", \"aussie\", \"australia\", \"australian\", \"back\", \"bali\", \"ban\", \"bank\", \"beat\", \"bid\", \"big\", \"bill\", \"body\", \"bomb\", \"boy\", \"bridge\", \"brisbane\", \"budget\", \"building\", \"business\", \"call\", \"canberra\", \"car\", \"cause\", \"census\", \"change\", \"charge\", \"child\", \"china\", \"chinese\", \"city\", \"climate\", \"close\", \"coast\", \"comment\", \"community\", \"company\", \"concern\", \"could\", \"council\", \"country\", \"court\", \"crash\", \"cricket\", \"criticise\", \"cup\", \"cut\", \"darwin\", \"data\", \"david\", \"day\", \"dead\", \"deal\", \"death\", \"decision\", \"delay\", \"denies\", \"director\", \"dog\", \"dollar\", \"donald\", \"draw\", \"driver\", \"drug\", \"drum\", \"dy\", \"education\", \"election\", \"end\", \"energy\", \"executive\", \"expert\", \"face\", \"fake\", \"fall\", \"family\", \"farmer\", \"fatal\", \"fear\", \"fight\", \"final\", \"find\", \"fire\", \"first\", \"flight\", \"food\", \"force\", \"former\", \"found\", \"free\", \"funding\", \"future\", \"game\", \"george\", \"get\", \"girl\", \"go\", \"government\", \"govt\", \"grant\", \"green\", \"grenfell\", \"ground\", \"group\", \"grow\", \"guilty\", \"hanson\", \"head\", \"health\", \"help\", \"high\", \"hit\", \"home\", \"hospital\", \"house\", \"indigenous\", \"industry\", \"injury\", \"inquest\", \"interview\", \"island\", \"jail\", \"james\", \"jeff\", \"job\", \"john\", \"june\", \"kid\", \"kill\", \"know\", \"korea\", \"labor\", \"law\", \"lawyer\", \"lead\", \"leave\", \"levy\", \"liberal\", \"life\", \"light\", \"live\", \"local\", \"london\", \"look\", \"lose\", \"make\", \"man\", \"market\", \"may\", \"mayor\", \"medium\", \"melbourne\", \"member\", \"men\", \"michael\", \"mine\", \"miss\", \"moment\", \"murder\", \"murray\", \"national\", \"need\", \"new\", \"news\", \"north\", \"northern\", \"nrl\", \"nsw\", \"nt\", \"old\", \"one\", \"open\", \"origin\", \"outback\", \"park\", \"party\", \"paul\", \"pauline\", \"pay\", \"pell\", \"pell\", \"penalty\", \"people\", \"perth\", \"philippine\", \"plan\", \"plane\", \"pm\", \"police\", \"politics\", \"post\", \"power\", \"price\", \"prison\", \"program\", \"push\", \"put\", \"qld\", \"queen\", \"queensland\", \"question\", \"quiz\", \"raise\", \"rate\", \"record\", \"report\", \"return\", \"reveals\", \"review\", \"rise\", \"risk\", \"road\", \"rock\", \"run\", \"sa\", \"safety\", \"say\", \"scene\", \"school\", \"scorecentre\", \"security\", \"see\", \"seek\", \"senate\", \"sentence\", \"service\", \"set\", \"sex\", \"share\", \"show\", \"sign\", \"socceroos\", \"south\", \"speaks\", \"start\", \"state\", \"station\", \"still\", \"stop\", \"street\", \"strike\", \"student\", \"study\", \"suicide\", \"support\", \"sydney\", \"take\", \"target\", \"tasmania\", \"tasmanian\", \"tax\", \"teen\", \"terror\", \"test\", \"tony\", \"tower\", \"town\", \"travel\", \"trial\", \"trump\", \"turn\", \"turnbull\", \"tweet\", \"two\", \"u\", \"uk\", \"union\", \"use\", \"victim\", \"victoria\", \"victorian\", \"violence\", \"vote\", \"wa\", \"wall\", \"want\", \"war\", \"water\", \"week\", \"west\", \"white\", \"win\", \"winter\", \"woman\", \"work\", \"worker\", \"world\", \"year\", \"young\"]}, \"R\": 30, \"lambda.step\": 0.01, \"plot.opts\": {\"xlab\": \"PC1\", \"ylab\": \"PC2\"}, \"topic.order\": [3, 4, 8, 2, 10, 1, 7, 5, 9, 6]};\n",
       "\n",
       "function LDAvis_load_lib(url, callback){\n",
       "  var s = document.createElement('script');\n",
       "  s.src = url;\n",
       "  s.async = true;\n",
       "  s.onreadystatechange = s.onload = callback;\n",
       "  s.onerror = function(){console.warn(\"failed to load library \" + url);};\n",
       "  document.getElementsByTagName(\"head\")[0].appendChild(s);\n",
       "}\n",
       "\n",
       "if(typeof(LDAvis) !== \"undefined\"){\n",
       "   // already loaded: just create the visualization\n",
       "   !function(LDAvis){\n",
       "       new LDAvis(\"#\" + \"ldavis_el6891400078364626809132955590\", ldavis_el6891400078364626809132955590_data);\n",
       "   }(LDAvis);\n",
       "}else if(typeof define === \"function\" && define.amd){\n",
       "   // require.js is available: use it to load d3/LDAvis\n",
       "   require.config({paths: {d3: \"https://cdnjs.cloudflare.com/ajax/libs/d3/3.5.5/d3.min\"}});\n",
       "   require([\"d3\"], function(d3){\n",
       "      window.d3 = d3;\n",
       "      LDAvis_load_lib(\"https://cdn.rawgit.com/bmabey/pyLDAvis/files/ldavis.v1.0.0.js\", function(){\n",
       "        new LDAvis(\"#\" + \"ldavis_el6891400078364626809132955590\", ldavis_el6891400078364626809132955590_data);\n",
       "      });\n",
       "    });\n",
       "}else{\n",
       "    // require.js not available: dynamically load d3 & LDAvis\n",
       "    LDAvis_load_lib(\"https://cdnjs.cloudflare.com/ajax/libs/d3/3.5.5/d3.min.js\", function(){\n",
       "         LDAvis_load_lib(\"https://cdn.rawgit.com/bmabey/pyLDAvis/files/ldavis.v1.0.0.js\", function(){\n",
       "                 new LDAvis(\"#\" + \"ldavis_el6891400078364626809132955590\", ldavis_el6891400078364626809132955590_data);\n",
       "            })\n",
       "         });\n",
       "}\n",
       "</script>"
      ],
      "text/plain": [
       "PreparedData(topic_coordinates=              x         y  topics  cluster       Freq\n",
       "topic                                                \n",
       "2      0.398822 -0.073840       1        1  14.148230\n",
       "3     -0.131780 -0.373026       2        1  13.216247\n",
       "7     -0.071789  0.105453       3        1  11.713610\n",
       "1     -0.047664  0.150050       4        1  11.467966\n",
       "9     -0.020465  0.044348       5        1  10.283163\n",
       "0     -0.034530  0.053147       6        1  10.123476\n",
       "6     -0.032627  0.027795       7        1   9.204846\n",
       "4     -0.021107  0.026408       8        1   7.844595\n",
       "8     -0.016061  0.018595       9        1   6.536467\n",
       "5     -0.022800  0.021070      10        1   5.461400, topic_info=     Category        Freq        Term       Total  loglift  logprob\n",
       "12    Default  839.000000   australia  839.000000  30.0000  30.0000\n",
       "313   Default  752.000000  australian  752.000000  29.0000  29.0000\n",
       "49    Default  823.000000         say  823.000000  28.0000  28.0000\n",
       "48    Default  820.000000      police  820.000000  27.0000  27.0000\n",
       "95    Default  571.000000       trump  571.000000  26.0000  26.0000\n",
       "19    Default  685.000000         new  685.000000  25.0000  25.0000\n",
       "274   Default  539.000000          wa  539.000000  24.0000  24.0000\n",
       "231   Default  479.000000      sydney  479.000000  23.0000  23.0000\n",
       "70    Default  491.000000      charge  491.000000  22.0000  22.0000\n",
       "22    Default  434.000000      attack  434.000000  21.0000  21.0000\n",
       "471   Default  487.000000         man  487.000000  20.0000  20.0000\n",
       "28    Default  501.000000        fire  501.000000  19.0000  19.0000\n",
       "213   Default  466.000000          sa  466.000000  18.0000  18.0000\n",
       "301   Default  504.000000       woman  504.000000  17.0000  17.0000\n",
       "427   Default  381.000000       could  381.000000  16.0000  16.0000\n",
       "158   Default  424.000000         nsw  424.000000  15.0000  15.0000\n",
       "219   Default  446.000000  government  446.000000  14.0000  14.0000\n",
       "709   Default  365.000000       court  365.000000  13.0000  13.0000\n",
       "1690  Default  365.000000        june  365.000000  12.0000  12.0000\n",
       "562   Default  399.000000      school  399.000000  11.0000  11.0000\n",
       "981   Default  420.000000           u  420.000000  10.0000  10.0000\n",
       "256   Default  363.000000         win  363.000000   9.0000   9.0000\n",
       "334   Default  355.000000        take  355.000000   8.0000   8.0000\n",
       "178   Default  358.000000       perth  358.000000   7.0000   7.0000\n",
       "20    Default  393.000000        year  393.000000   6.0000   6.0000\n",
       "250   Default  351.000000        call  351.000000   5.0000   5.0000\n",
       "10    Default  273.000000    adelaide  273.000000   4.0000   4.0000\n",
       "458   Default  264.000000       crash  264.000000   3.0000   3.0000\n",
       "84    Default  312.000000       death  312.000000   2.0000   2.0000\n",
       "1070  Default  253.000000        face  253.000000   1.0000   1.0000\n",
       "...       ...         ...         ...         ...      ...      ...\n",
       "1211  Topic10  193.089920        fear  194.059753   2.9025  -3.6979\n",
       "618   Topic10  191.839890        news  192.809631   2.9024  -3.7044\n",
       "590   Topic10  191.474548         end  192.444351   2.9024  -3.7063\n",
       "1543  Topic10  149.493729         put  150.463531   2.9010  -3.9538\n",
       "56    Topic10  144.276474     concern  145.246170   2.9008  -3.9893\n",
       "61    Topic10  137.295929         war  138.265594   2.9004  -4.0389\n",
       "247   Topic10  131.591324     council  132.561096   2.9001  -4.0813\n",
       "1809  Topic10  130.138306    sentence  131.108017   2.9000  -4.0924\n",
       "946   Topic10  109.835068      flight  110.804764   2.8987  -4.2620\n",
       "2434  Topic10  102.231583        paul  103.201408   2.8980  -4.3338\n",
       "1710  Topic10  101.119240    building  102.088966   2.8979  -4.3447\n",
       "1748  Topic10   95.533112         abc   96.502754   2.8974  -4.4015\n",
       "1031  Topic10   94.217720      worker   95.187447   2.8972  -4.4154\n",
       "1484  Topic10   90.168671     chinese   91.138412   2.8968  -4.4593\n",
       "58    Topic10   86.534767        post   87.504723   2.8963  -4.5005\n",
       "1029  Topic10   85.241928       leave   86.211678   2.8962  -4.5155\n",
       "129   Topic10   84.400627    security   85.370316   2.8960  -4.5254\n",
       "2564  Topic10   79.933884   apartment   80.903664   2.8954  -4.5798\n",
       "1593  Topic10   79.607651      member   80.577408   2.8954  -4.5839\n",
       "145   Topic10   78.553650      appeal   79.523369   2.8952  -4.5972\n",
       "1967  Topic10   77.502426       still   78.472084   2.8950  -4.6107\n",
       "835   Topic10   75.696823       raise   76.666565   2.8947  -4.6343\n",
       "3037  Topic10   74.972885       delay   75.942772   2.8946  -4.6439\n",
       "3360  Topic10   71.447136      bridge   72.417282   2.8940  -4.6921\n",
       "2815  Topic10   71.118820        jeff   72.088806   2.8939  -4.6967\n",
       "1750  Topic10   68.970932        quiz   69.940567   2.8935  -4.7273\n",
       "3146  Topic10   66.739563       union   67.709328   2.8930  -4.7602\n",
       "4381  Topic10   62.865261       grant   63.834927   2.8922  -4.8200\n",
       "3005  Topic10   59.626930      speaks   60.596706   2.8913  -4.8729\n",
       "1732  Topic10   58.249111        govt   59.218822   2.8910  -4.8963\n",
       "\n",
       "[333 rows x 6 columns], token_table=      Topic      Freq        Term\n",
       "term                             \n",
       "582       6  0.992775      abbott\n",
       "1748     10  0.994790         abc\n",
       "637       7  0.995398  aboriginal\n",
       "441       3  0.993142       abuse\n",
       "2423      5  0.992045      accuse\n",
       "10        9  0.995060    adelaide\n",
       "2624      2  0.996886         afl\n",
       "1947      5  0.987595         age\n",
       "68        6  0.992422      allege\n",
       "2778      9  0.984792     america\n",
       "2564     10  0.988830   apartment\n",
       "145      10  0.993419      appeal\n",
       "261       1  0.993716      arrest\n",
       "420       5  0.996123         art\n",
       "185       4  0.997432     assault\n",
       "22        8  0.997731      attack\n",
       "1420      9  0.992535      aussie\n",
       "12        6  0.998728   australia\n",
       "313       7  0.998875  australian\n",
       "96        5  0.997466        back\n",
       "1919      1  0.990797        bali\n",
       "1600      3  0.997923         ban\n",
       "631       6  0.997460        bank\n",
       "227       9  0.992053        beat\n",
       "832       4  0.989656         bid\n",
       "517       3  0.991585         big\n",
       "1079      4  0.995226        bill\n",
       "1087      9  0.987266        body\n",
       "2271      9  0.982969        bomb\n",
       "1223      8  0.990559         boy\n",
       "...     ...       ...         ...\n",
       "95        9  0.998330       trump\n",
       "1956      1  0.994031        turn\n",
       "2756      4  0.994865    turnbull\n",
       "3831      9  0.991105       tweet\n",
       "160       4  0.994022         two\n",
       "981       2  0.998501           u\n",
       "1483      2  0.994657          uk\n",
       "3146     10  0.989524       union\n",
       "271       2  0.995241         use\n",
       "526       4  0.992022      victim\n",
       "265       1  0.996971    victoria\n",
       "985       1  0.990108   victorian\n",
       "1290      3  0.990987    violence\n",
       "3393      4  0.986572        vote\n",
       "274       7  0.997800          wa\n",
       "272       2  0.991916        wall\n",
       "379       9  0.987787        want\n",
       "61       10  0.990847         war\n",
       "401       1  0.995937       water\n",
       "1905      4  0.991746        week\n",
       "641       7  0.993565        west\n",
       "289       1  0.996685       white\n",
       "256       3  0.997190         win\n",
       "1404      2  0.988294      winter\n",
       "301       1  0.998043       woman\n",
       "425       5  0.989301        work\n",
       "1031     10  0.987525      worker\n",
       "34        1  0.996241       world\n",
       "20        1  0.998455        year\n",
       "1582      7  0.991270       young\n",
       "\n",
       "[304 rows x 3 columns], R=30, lambda_step=0.01, plot_opts={'xlab': 'PC1', 'ylab': 'PC2'}, topic_order=[3, 4, 8, 2, 10, 1, 7, 5, 9, 6])"
      ]
     },
     "execution_count": 33,
     "metadata": {},
     "output_type": "execute_result"
    }
   ],
   "source": [
    "# Visualize the topics\n",
    "pyLDAvis.enable_notebook()\n",
    "vis = pyLDAvis.gensim.prepare(lda_model, corpus, id2word)\n",
    "vis"
   ]
  },
  {
   "cell_type": "code",
   "execution_count": null,
   "metadata": {},
   "outputs": [],
   "source": []
  }
 ],
 "metadata": {
  "kernelspec": {
   "display_name": "Python 3",
   "language": "python",
   "name": "python3"
  },
  "language_info": {
   "codemirror_mode": {
    "name": "ipython",
    "version": 3
   },
   "file_extension": ".py",
   "mimetype": "text/x-python",
   "name": "python",
   "nbconvert_exporter": "python",
   "pygments_lexer": "ipython3",
   "version": "3.7.2"
  }
 },
 "nbformat": 4,
 "nbformat_minor": 2
}
